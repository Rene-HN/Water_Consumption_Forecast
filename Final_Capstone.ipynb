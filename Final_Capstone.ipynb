{
  "nbformat": 4,
  "nbformat_minor": 5,
  "metadata": {
    "kernelspec": {
      "display_name": "Python 3",
      "language": "python",
      "name": "python3"
    },
    "language_info": {
      "codemirror_mode": {
        "name": "ipython",
        "version": 3
      },
      "file_extension": ".py",
      "mimetype": "text/x-python",
      "name": "python",
      "nbconvert_exporter": "python",
      "pygments_lexer": "ipython3",
      "version": "3.8.8"
    },
    "colab": {
      "name": "Final_Capstone.ipynb",
      "provenance": [],
      "include_colab_link": true
    }
  },
  "cells": [
    {
      "cell_type": "markdown",
      "metadata": {
        "id": "view-in-github",
        "colab_type": "text"
      },
      "source": [
        "<a href=\"https://colab.research.google.com/github/Rene-HN/Water_Consumption_Forecast/blob/main/Final_Capstone.ipynb\" target=\"_parent\"><img src=\"https://colab.research.google.com/assets/colab-badge.svg\" alt=\"Open In Colab\"/></a>"
      ]
    },
    {
      "cell_type": "markdown",
      "metadata": {
        "id": "nTsVE2yxpBJ0"
      },
      "source": [
        "# Final Capstone: Project Proposal.\n",
        "\n",
        "\n",
        "1. Problem\n",
        "\n",
        "  In this project we will try to explore what is the best method to forecast the drinking water consumption of the City of New York.\n",
        "\n",
        "  Although 71% of our planet is covered by water, only a very small proportion is associated with the continental areas to which humans are primarily confined. Over 99% of the water associated with continents is in the form of groundwater or ice and is therefore difficult for humans to use. Humans mostly depend on freshwater streams, rivers, marshes, lakes, and shallow groundwaters; we rely heavily on a rare commodity. Therefore, having the ability to forecast future water consumption would allow governments to manage such vital resources in a sustainable way. \n",
        "\n",
        "2. Data.\n",
        "\n",
        "  For this project we will use a Kaggle dataset titled “NY Water Consumption In \n",
        "  The New York City”. The data collection provides a brief history of water  consumption in the New York City Water Supply System (Based on New York \n",
        "  City Census population)\n",
        "\n",
        "  This is a dataset hosted by the City of New York. The city has an open data \n",
        "  platform found [here](https://opendata.cityofnewyork.us/) and they update their information according the amount of \n",
        "  data that is brought in. \n",
        "\n",
        "  One possible limitation of the dataset is that the observations are summarized in millions of gallons per day on a yearly average. Averaging on a yearly basis could eliminate some seasonal information that could be useful for model development and prediction.\n",
        "\n",
        "3. Methodology.\n",
        "\n",
        "  We will approach this project as a Time Series , therefore we will try to implement the ARIMA models from the statmodel library. Also we will try to evaluate a Bayesian model included on the Facebook open source library, Prophet.\n"
      ],
      "id": "nTsVE2yxpBJ0"
    },
    {
      "cell_type": "code",
      "metadata": {
        "id": "fifteen-bacteria"
      },
      "source": [
        "## Change your working directory to where the data\n",
        "import os\n",
        "os.chdir('/home/rene/Final Capstone/Data')"
      ],
      "id": "fifteen-bacteria",
      "execution_count": null,
      "outputs": []
    },
    {
      "cell_type": "code",
      "metadata": {
        "id": "romance-paintball",
        "outputId": "0a0ed30d-c661-4834-81de-6dd1b6e82c31"
      },
      "source": [
        "import warnings\n",
        "import pandas as pd\n",
        "import numpy as np\n",
        "from matplotlib import pyplot\n",
        "from pandas.plotting import autocorrelation_plot\n",
        "from scipy.stats import boxcox\n",
        "from math import sqrt\n",
        "from pandas import datetime\n",
        "from statsmodels.tsa.arima_model import ARIMA\n",
        "from sklearn.metrics import mean_squared_error\n",
        "from fbprophet import Prophet\n",
        "from fbprophet.plot import plot_plotly, plot_components_plotly\n",
        "\n",
        "warnings.filterwarnings(\"ignore\")"
      ],
      "id": "romance-paintball",
      "execution_count": null,
      "outputs": [
        {
          "output_type": "stream",
          "text": [
            "<ipython-input-2-db5ce83f9e94>:8: FutureWarning: The pandas.datetime class is deprecated and will be removed from pandas in a future version. Import from datetime module instead.\n",
            "  from pandas import datetime\n",
            "Importing plotly failed. Interactive plots will not work.\n"
          ],
          "name": "stderr"
        }
      ]
    },
    {
      "cell_type": "markdown",
      "metadata": {
        "id": "bxGI3FxHpad2"
      },
      "source": [
        ""
      ],
      "id": "bxGI3FxHpad2"
    },
    {
      "cell_type": "code",
      "metadata": {
        "id": "pressing-picking",
        "outputId": "92c510c3-889a-43b3-9b4a-209cfd97824c"
      },
      "source": [
        "%%time\n",
        "timeseries_data = pd.read_csv( 'archive/water-consumption-in-the-new-york-city.csv' , header=0, index_col=0, parse_dates=True,  infer_datetime_format=True)\n",
        "print(type(timeseries_data))\n",
        "timeseries_data.head()"
      ],
      "id": "pressing-picking",
      "execution_count": null,
      "outputs": [
        {
          "output_type": "stream",
          "text": [
            "<class 'pandas.core.frame.DataFrame'>\n",
            "CPU times: user 5.25 ms, sys: 555 µs, total: 5.81 ms\n",
            "Wall time: 7.12 ms\n"
          ],
          "name": "stdout"
        },
        {
          "output_type": "execute_result",
          "data": {
            "text/html": [
              "<div>\n",
              "<style scoped>\n",
              "    .dataframe tbody tr th:only-of-type {\n",
              "        vertical-align: middle;\n",
              "    }\n",
              "\n",
              "    .dataframe tbody tr th {\n",
              "        vertical-align: top;\n",
              "    }\n",
              "\n",
              "    .dataframe thead th {\n",
              "        text-align: right;\n",
              "    }\n",
              "</style>\n",
              "<table border=\"1\" class=\"dataframe\">\n",
              "  <thead>\n",
              "    <tr style=\"text-align: right;\">\n",
              "      <th></th>\n",
              "      <th>New York City Population</th>\n",
              "      <th>NYC Consumption(Million gallons per day)</th>\n",
              "      <th>Per Capita(Gallons per person per day)</th>\n",
              "    </tr>\n",
              "    <tr>\n",
              "      <th>Year</th>\n",
              "      <th></th>\n",
              "      <th></th>\n",
              "      <th></th>\n",
              "    </tr>\n",
              "  </thead>\n",
              "  <tbody>\n",
              "    <tr>\n",
              "      <th>1979-01-01</th>\n",
              "      <td>7102100.0</td>\n",
              "      <td>1512.0</td>\n",
              "      <td>213</td>\n",
              "    </tr>\n",
              "    <tr>\n",
              "      <th>1980-01-01</th>\n",
              "      <td>7071639.0</td>\n",
              "      <td>1506.0</td>\n",
              "      <td>213</td>\n",
              "    </tr>\n",
              "    <tr>\n",
              "      <th>1981-01-01</th>\n",
              "      <td>7089241.0</td>\n",
              "      <td>1309.0</td>\n",
              "      <td>185</td>\n",
              "    </tr>\n",
              "    <tr>\n",
              "      <th>1982-01-01</th>\n",
              "      <td>7109105.0</td>\n",
              "      <td>1382.0</td>\n",
              "      <td>194</td>\n",
              "    </tr>\n",
              "    <tr>\n",
              "      <th>1983-01-01</th>\n",
              "      <td>7181224.0</td>\n",
              "      <td>1424.0</td>\n",
              "      <td>198</td>\n",
              "    </tr>\n",
              "  </tbody>\n",
              "</table>\n",
              "</div>"
            ],
            "text/plain": [
              "            New York City Population  \\\n",
              "Year                                   \n",
              "1979-01-01                 7102100.0   \n",
              "1980-01-01                 7071639.0   \n",
              "1981-01-01                 7089241.0   \n",
              "1982-01-01                 7109105.0   \n",
              "1983-01-01                 7181224.0   \n",
              "\n",
              "            NYC Consumption(Million gallons per day)  \\\n",
              "Year                                                   \n",
              "1979-01-01                                    1512.0   \n",
              "1980-01-01                                    1506.0   \n",
              "1981-01-01                                    1309.0   \n",
              "1982-01-01                                    1382.0   \n",
              "1983-01-01                                    1424.0   \n",
              "\n",
              "            Per Capita(Gallons per person per day)  \n",
              "Year                                                \n",
              "1979-01-01                                     213  \n",
              "1980-01-01                                     213  \n",
              "1981-01-01                                     185  \n",
              "1982-01-01                                     194  \n",
              "1983-01-01                                     198  "
            ]
          },
          "metadata": {
            "tags": []
          },
          "execution_count": 3
        }
      ]
    },
    {
      "cell_type": "code",
      "metadata": {
        "id": "underlying-grammar",
        "outputId": "1d86cd41-bf44-4e91-8637-ab79041591cb"
      },
      "source": [
        "%%time\n",
        "timeseries_data.index = timeseries_data.index.year "
      ],
      "id": "underlying-grammar",
      "execution_count": null,
      "outputs": [
        {
          "output_type": "stream",
          "text": [
            "CPU times: user 133 µs, sys: 61 µs, total: 194 µs\n",
            "Wall time: 157 µs\n"
          ],
          "name": "stdout"
        }
      ]
    },
    {
      "cell_type": "code",
      "metadata": {
        "id": "eight-pharmacy",
        "outputId": "4ecd6516-a5c0-4b6d-e6ac-f3a00a5d94b3"
      },
      "source": [
        "%%time\n",
        "timeseries_data.head()"
      ],
      "id": "eight-pharmacy",
      "execution_count": null,
      "outputs": [
        {
          "output_type": "stream",
          "text": [
            "CPU times: user 71 µs, sys: 32 µs, total: 103 µs\n",
            "Wall time: 113 µs\n"
          ],
          "name": "stdout"
        },
        {
          "output_type": "execute_result",
          "data": {
            "text/html": [
              "<div>\n",
              "<style scoped>\n",
              "    .dataframe tbody tr th:only-of-type {\n",
              "        vertical-align: middle;\n",
              "    }\n",
              "\n",
              "    .dataframe tbody tr th {\n",
              "        vertical-align: top;\n",
              "    }\n",
              "\n",
              "    .dataframe thead th {\n",
              "        text-align: right;\n",
              "    }\n",
              "</style>\n",
              "<table border=\"1\" class=\"dataframe\">\n",
              "  <thead>\n",
              "    <tr style=\"text-align: right;\">\n",
              "      <th></th>\n",
              "      <th>New York City Population</th>\n",
              "      <th>NYC Consumption(Million gallons per day)</th>\n",
              "      <th>Per Capita(Gallons per person per day)</th>\n",
              "    </tr>\n",
              "    <tr>\n",
              "      <th>Year</th>\n",
              "      <th></th>\n",
              "      <th></th>\n",
              "      <th></th>\n",
              "    </tr>\n",
              "  </thead>\n",
              "  <tbody>\n",
              "    <tr>\n",
              "      <th>1979</th>\n",
              "      <td>7102100.0</td>\n",
              "      <td>1512.0</td>\n",
              "      <td>213</td>\n",
              "    </tr>\n",
              "    <tr>\n",
              "      <th>1980</th>\n",
              "      <td>7071639.0</td>\n",
              "      <td>1506.0</td>\n",
              "      <td>213</td>\n",
              "    </tr>\n",
              "    <tr>\n",
              "      <th>1981</th>\n",
              "      <td>7089241.0</td>\n",
              "      <td>1309.0</td>\n",
              "      <td>185</td>\n",
              "    </tr>\n",
              "    <tr>\n",
              "      <th>1982</th>\n",
              "      <td>7109105.0</td>\n",
              "      <td>1382.0</td>\n",
              "      <td>194</td>\n",
              "    </tr>\n",
              "    <tr>\n",
              "      <th>1983</th>\n",
              "      <td>7181224.0</td>\n",
              "      <td>1424.0</td>\n",
              "      <td>198</td>\n",
              "    </tr>\n",
              "  </tbody>\n",
              "</table>\n",
              "</div>"
            ],
            "text/plain": [
              "      New York City Population  NYC Consumption(Million gallons per day)  \\\n",
              "Year                                                                       \n",
              "1979                 7102100.0                                    1512.0   \n",
              "1980                 7071639.0                                    1506.0   \n",
              "1981                 7089241.0                                    1309.0   \n",
              "1982                 7109105.0                                    1382.0   \n",
              "1983                 7181224.0                                    1424.0   \n",
              "\n",
              "      Per Capita(Gallons per person per day)  \n",
              "Year                                          \n",
              "1979                                     213  \n",
              "1980                                     213  \n",
              "1981                                     185  \n",
              "1982                                     194  \n",
              "1983                                     198  "
            ]
          },
          "metadata": {
            "tags": []
          },
          "execution_count": 5
        }
      ]
    },
    {
      "cell_type": "code",
      "metadata": {
        "id": "waiting-wallpaper",
        "outputId": "f516740e-3cdb-4ab2-f906-13b9a3b0b236"
      },
      "source": [
        "%%time \n",
        "timeseries_data .describe().T"
      ],
      "id": "waiting-wallpaper",
      "execution_count": null,
      "outputs": [
        {
          "output_type": "stream",
          "text": [
            "CPU times: user 6.83 ms, sys: 0 ns, total: 6.83 ms\n",
            "Wall time: 7.07 ms\n"
          ],
          "name": "stdout"
        },
        {
          "output_type": "execute_result",
          "data": {
            "text/html": [
              "<div>\n",
              "<style scoped>\n",
              "    .dataframe tbody tr th:only-of-type {\n",
              "        vertical-align: middle;\n",
              "    }\n",
              "\n",
              "    .dataframe tbody tr th {\n",
              "        vertical-align: top;\n",
              "    }\n",
              "\n",
              "    .dataframe thead th {\n",
              "        text-align: right;\n",
              "    }\n",
              "</style>\n",
              "<table border=\"1\" class=\"dataframe\">\n",
              "  <thead>\n",
              "    <tr style=\"text-align: right;\">\n",
              "      <th></th>\n",
              "      <th>count</th>\n",
              "      <th>mean</th>\n",
              "      <th>std</th>\n",
              "      <th>min</th>\n",
              "      <th>25%</th>\n",
              "      <th>50%</th>\n",
              "      <th>75%</th>\n",
              "      <th>max</th>\n",
              "    </tr>\n",
              "  </thead>\n",
              "  <tbody>\n",
              "    <tr>\n",
              "      <th>New York City Population</th>\n",
              "      <td>41.0</td>\n",
              "      <td>7.808080e+06</td>\n",
              "      <td>468363.600789</td>\n",
              "      <td>7071639.0</td>\n",
              "      <td>7344175.0</td>\n",
              "      <td>7947660.0</td>\n",
              "      <td>8158447.5</td>\n",
              "      <td>8475976.0</td>\n",
              "    </tr>\n",
              "    <tr>\n",
              "      <th>NYC Consumption(Million gallons per day)</th>\n",
              "      <td>41.0</td>\n",
              "      <td>1.222659e+03</td>\n",
              "      <td>177.967116</td>\n",
              "      <td>987.4</td>\n",
              "      <td>1039.0</td>\n",
              "      <td>1219.5</td>\n",
              "      <td>1369.0</td>\n",
              "      <td>1512.0</td>\n",
              "    </tr>\n",
              "    <tr>\n",
              "      <th>Per Capita(Gallons per person per day)</th>\n",
              "      <td>41.0</td>\n",
              "      <td>1.584146e+02</td>\n",
              "      <td>32.242810</td>\n",
              "      <td>117.0</td>\n",
              "      <td>127.0</td>\n",
              "      <td>155.0</td>\n",
              "      <td>185.0</td>\n",
              "      <td>213.0</td>\n",
              "    </tr>\n",
              "  </tbody>\n",
              "</table>\n",
              "</div>"
            ],
            "text/plain": [
              "                                          count          mean            std  \\\n",
              "New York City Population                   41.0  7.808080e+06  468363.600789   \n",
              "NYC Consumption(Million gallons per day)   41.0  1.222659e+03     177.967116   \n",
              "Per Capita(Gallons per person per day)     41.0  1.584146e+02      32.242810   \n",
              "\n",
              "                                                min        25%        50%  \\\n",
              "New York City Population                  7071639.0  7344175.0  7947660.0   \n",
              "NYC Consumption(Million gallons per day)      987.4     1039.0     1219.5   \n",
              "Per Capita(Gallons per person per day)        117.0      127.0      155.0   \n",
              "\n",
              "                                                75%        max  \n",
              "New York City Population                  8158447.5  8475976.0  \n",
              "NYC Consumption(Million gallons per day)     1369.0     1512.0  \n",
              "Per Capita(Gallons per person per day)        185.0      213.0  "
            ]
          },
          "metadata": {
            "tags": []
          },
          "execution_count": 6
        }
      ]
    },
    {
      "cell_type": "code",
      "metadata": {
        "id": "close-extra",
        "outputId": "2ae7c7e9-3cc1-4ccb-e25a-955f6faa821b"
      },
      "source": [
        "%%time\n",
        "timeseries_data.info()"
      ],
      "id": "close-extra",
      "execution_count": null,
      "outputs": [
        {
          "output_type": "stream",
          "text": [
            "<class 'pandas.core.frame.DataFrame'>\n",
            "Int64Index: 41 entries, 1979 to 2019\n",
            "Data columns (total 3 columns):\n",
            " #   Column                                    Non-Null Count  Dtype  \n",
            "---  ------                                    --------------  -----  \n",
            " 0   New York City Population                  41 non-null     float64\n",
            " 1   NYC Consumption(Million gallons per day)  41 non-null     float64\n",
            " 2   Per Capita(Gallons per person per day)    41 non-null     int64  \n",
            "dtypes: float64(2), int64(1)\n",
            "memory usage: 1.3 KB\n",
            "CPU times: user 3.52 ms, sys: 0 ns, total: 3.52 ms\n",
            "Wall time: 4.01 ms\n"
          ],
          "name": "stdout"
        }
      ]
    },
    {
      "cell_type": "code",
      "metadata": {
        "id": "difficult-shaft",
        "outputId": "301648e1-8239-4bd5-900d-824964a79259"
      },
      "source": [
        "%%time\n",
        "nyc_pop = timeseries_data['New York City Population'].copy()\n",
        "nyc_h2o_MMD = timeseries_data['NYC Consumption(Million gallons per day)'].copy()\n",
        "nyc_h2o_PC = timeseries_data['Per Capita(Gallons per person per day)'].copy()"
      ],
      "id": "difficult-shaft",
      "execution_count": null,
      "outputs": [
        {
          "output_type": "stream",
          "text": [
            "CPU times: user 327 µs, sys: 0 ns, total: 327 µs\n",
            "Wall time: 257 µs\n"
          ],
          "name": "stdout"
        }
      ]
    },
    {
      "cell_type": "code",
      "metadata": {
        "id": "typical-comment",
        "outputId": "8b75f21e-9e4c-4344-9d3a-10d811cdafd0"
      },
      "source": [
        "%%time\n",
        "pyplot.figure(1)\n",
        "#line Plot\n",
        "pyplot.subplot(211)\n",
        "pyplot.plot(nyc_pop)\n",
        "#Histogram\n",
        "pyplot.subplot(212)\n",
        "pyplot.hist(nyc_pop)\n",
        "pyplot.show()"
      ],
      "id": "typical-comment",
      "execution_count": null,
      "outputs": [
        {
          "output_type": "display_data",
          "data": {
            "image/png": "[encoded data removed]",
            "text/plain": [
              "<Figure size 432x288 with 2 Axes>"
            ]
          },
          "metadata": {
            "tags": [],
            "needs_background": "light"
          }
        },
        {
          "output_type": "stream",
          "text": [
            "CPU times: user 168 ms, sys: 12.3 ms, total: 181 ms\n",
            "Wall time: 189 ms\n"
          ],
          "name": "stdout"
        }
      ]
    },
    {
      "cell_type": "code",
      "metadata": {
        "id": "completed-bulletin",
        "outputId": "ff60f928-de4d-4f9b-fd59-b1e180c9b1d2"
      },
      "source": [
        "%%time\n",
        "pyplot.figure(1)\n",
        "#line Plot\n",
        "pyplot.subplot(211)\n",
        "pyplot.plot(boxcox(nyc_pop, None)[0])\n",
        "#Histogram\n",
        "pyplot.subplot(212)\n",
        "pyplot.hist(boxcox(nyc_pop, None)[0])\n",
        "pyplot.show()"
      ],
      "id": "completed-bulletin",
      "execution_count": null,
      "outputs": [
        {
          "output_type": "display_data",
          "data": {
            "image/png": "[encoded data removed]",
            "text/plain": [
              "<Figure size 432x288 with 2 Axes>"
            ]
          },
          "metadata": {
            "tags": [],
            "needs_background": "light"
          }
        },
        {
          "output_type": "stream",
          "text": [
            "CPU times: user 156 ms, sys: 5.4 ms, total: 162 ms\n",
            "Wall time: 152 ms\n"
          ],
          "name": "stdout"
        }
      ]
    },
    {
      "cell_type": "code",
      "metadata": {
        "id": "level-inspector",
        "outputId": "b17a04fc-d8c9-4f21-fa0b-a27f2be401a1"
      },
      "source": [
        "%%time\n",
        "boxcox(nyc_pop)"
      ],
      "id": "level-inspector",
      "execution_count": null,
      "outputs": [
        {
          "output_type": "stream",
          "text": [
            "CPU times: user 503 µs, sys: 198 µs, total: 701 µs\n",
            "Wall time: 704 µs\n"
          ],
          "name": "stdout"
        },
        {
          "output_type": "execute_result",
          "data": {
            "text/plain": [
              "(array([1.74511286e+16, 1.72700436e+16, 1.73745488e+16, 1.74929291e+16,\n",
              "        1.79267048e+16, 1.82512497e+16, 1.84942702e+16, 1.87743463e+16,\n",
              "        1.89192776e+16, 1.89896577e+16, 1.89299033e+16, 1.88766224e+16,\n",
              "        1.91201558e+16, 1.94645185e+16, 1.99591738e+16, 2.03765827e+16,\n",
              "        2.07877769e+16, 2.12184559e+16, 2.17279223e+16, 2.23077338e+16,\n",
              "        2.29286304e+16, 2.33553389e+16, 2.34736058e+16, 2.35922240e+16,\n",
              "        2.37111939e+16, 2.38305158e+16, 2.39501901e+16, 2.40702169e+16,\n",
              "        2.41905966e+16, 2.43113296e+16, 2.44324162e+16, 2.45538565e+16,\n",
              "        2.52730184e+16, 2.58331553e+16, 2.62156033e+16, 2.65093200e+16,\n",
              "        2.67447264e+16, 2.68045098e+16, 2.65160607e+16, 2.62156714e+16,\n",
              "        2.57490143e+16]),\n",
              " 2.426786820372914)"
            ]
          },
          "metadata": {
            "tags": []
          },
          "execution_count": 11
        }
      ]
    },
    {
      "cell_type": "markdown",
      "metadata": {
        "id": "related-mercy"
      },
      "source": [
        "Running the box-cox method  we can discover the lambda value of 2.4268. We can see that this is very\n",
        "close to a lambda value of 2.0, resulting in a square transform and stronger (less than) than 3.0 for\n",
        "the cubic transform."
      ],
      "id": "related-mercy"
    },
    {
      "cell_type": "code",
      "metadata": {
        "id": "provincial-effects",
        "outputId": "09201d60-54e1-474c-94ce-edb4926ff533"
      },
      "source": [
        "%%time\n",
        "pyplot.figure(1)\n",
        "#line Plot\n",
        "pyplot.subplot(211)\n",
        "pyplot.plot(nyc_h2o_MMD)\n",
        "#Histogram\n",
        "pyplot.subplot(212)\n",
        "pyplot.hist(nyc_h2o_MMD)\n",
        "pyplot.show()"
      ],
      "id": "provincial-effects",
      "execution_count": null,
      "outputs": [
        {
          "output_type": "display_data",
          "data": {
            "image/png": "[encoded data removed]",
            "text/plain": [
              "<Figure size 432x288 with 2 Axes>"
            ]
          },
          "metadata": {
            "tags": [],
            "needs_background": "light"
          }
        },
        {
          "output_type": "stream",
          "text": [
            "CPU times: user 136 ms, sys: 1.32 ms, total: 138 ms\n",
            "Wall time: 133 ms\n"
          ],
          "name": "stdout"
        }
      ]
    },
    {
      "cell_type": "code",
      "metadata": {
        "id": "wired-mount",
        "outputId": "c2c63f72-87d4-4fa0-ea49-3d5b1af3abce"
      },
      "source": [
        "%%time\n",
        "pyplot.figure(1)\n",
        "#line Plot\n",
        "pyplot.subplot(211)\n",
        "pyplot.plot(boxcox(nyc_h2o_MMD, None)[0])\n",
        "#Histogram\n",
        "pyplot.subplot(212)\n",
        "pyplot.hist(boxcox(nyc_h2o_MMD, None)[0])\n",
        "pyplot.show()"
      ],
      "id": "wired-mount",
      "execution_count": null,
      "outputs": [
        {
          "output_type": "display_data",
          "data": {
            "image/png": "[encoded data removed]",
            "text/plain": [
              "<Figure size 432x288 with 2 Axes>"
            ]
          },
          "metadata": {
            "tags": [],
            "needs_background": "light"
          }
        },
        {
          "output_type": "stream",
          "text": [
            "CPU times: user 158 ms, sys: 5.77 ms, total: 164 ms\n",
            "Wall time: 155 ms\n"
          ],
          "name": "stdout"
        }
      ]
    },
    {
      "cell_type": "code",
      "metadata": {
        "id": "tracked-patient",
        "outputId": "32f04e5d-0b65-4fe2-835c-40d173bb2c4b"
      },
      "source": [
        "%%time\n",
        "boxcox(nyc_h2o_MMD)"
      ],
      "id": "tracked-patient",
      "execution_count": null,
      "outputs": [
        {
          "output_type": "stream",
          "text": [
            "CPU times: user 2.5 ms, sys: 0 ns, total: 2.5 ms\n",
            "Wall time: 2.51 ms\n"
          ],
          "name": "stdout"
        },
        {
          "output_type": "execute_result",
          "data": {
            "text/plain": [
              "(array([10.46401861, 10.45620011, 10.18235836, 10.28794057, 10.34641393,\n",
              "        10.40200428, 10.20741479, 10.24373786, 10.37777492, 10.42728833,\n",
              "        10.31598327, 10.34641393, 10.40735187, 10.26951463, 10.26880278,\n",
              "        10.25336877, 10.20697515, 10.16583813, 10.02311231, 10.0453625 ,\n",
              "        10.07316361, 10.07815123,  9.98848145,  9.90838425,  9.8365011 ,\n",
              "         9.84659904,  9.91242837,  9.79294615,  9.87163394,  9.84399215,\n",
              "         9.68039713,  9.73879987,  9.70562698,  9.68340331,  9.67776317,\n",
              "         9.65866185,  9.68321555,  9.67003025,  9.64761316,  9.68039713,\n",
              "         9.64225827]),\n",
              " 0.09238417091148361)"
            ]
          },
          "metadata": {
            "tags": []
          },
          "execution_count": 14
        }
      ]
    },
    {
      "cell_type": "markdown",
      "metadata": {
        "id": "graduate-integer"
      },
      "source": [
        "Running the box-cox method  we can discover the lambda value of 0.09238. We can see that this is very\n",
        "close to a lambda value of 0.0, resulting in a square transform and weaker (more than) than 0.5 for\n",
        "the square root transform."
      ],
      "id": "graduate-integer"
    },
    {
      "cell_type": "code",
      "metadata": {
        "id": "crucial-italian",
        "outputId": "275f36f4-ad37-4c2f-e641-74f6ae0f2543"
      },
      "source": [
        "%%time\n",
        "pyplot.figure(1)\n",
        "#line Plot\n",
        "pyplot.subplot(211)\n",
        "pyplot.plot(nyc_h2o_PC)\n",
        "#Histogram\n",
        "pyplot.subplot(212)\n",
        "pyplot.hist(nyc_h2o_PC)\n",
        "pyplot.show()"
      ],
      "id": "crucial-italian",
      "execution_count": null,
      "outputs": [
        {
          "output_type": "display_data",
          "data": {
            "image/png": "[encoded data removed]",
            "text/plain": [
              "<Figure size 432x288 with 2 Axes>"
            ]
          },
          "metadata": {
            "tags": [],
            "needs_background": "light"
          }
        },
        {
          "output_type": "stream",
          "text": [
            "CPU times: user 163 ms, sys: 4.43 ms, total: 167 ms\n",
            "Wall time: 164 ms\n"
          ],
          "name": "stdout"
        }
      ]
    },
    {
      "cell_type": "code",
      "metadata": {
        "id": "solid-interference",
        "outputId": "263cbdfb-b972-45b1-f9df-f6f14e40039a"
      },
      "source": [
        "%%time\n",
        "pyplot.figure(1)\n",
        "#line Plot\n",
        "pyplot.subplot(211)\n",
        "pyplot.plot(boxcox(nyc_h2o_PC)[0])\n",
        "#Histogram\n",
        "pyplot.subplot(212)\n",
        "pyplot.hist(boxcox(nyc_h2o_PC)[0])\n",
        "pyplot.show()"
      ],
      "id": "solid-interference",
      "execution_count": null,
      "outputs": [
        {
          "output_type": "display_data",
          "data": {
            "image/png": "[encoded data removed]",
            "text/plain": [
              "<Figure size 432x288 with 2 Axes>"
            ]
          },
          "metadata": {
            "tags": [],
            "needs_background": "light"
          }
        },
        {
          "output_type": "stream",
          "text": [
            "CPU times: user 141 ms, sys: 3.97 ms, total: 145 ms\n",
            "Wall time: 140 ms\n"
          ],
          "name": "stdout"
        }
      ]
    },
    {
      "cell_type": "code",
      "metadata": {
        "id": "mysterious-spotlight",
        "outputId": "e5c83dda-e708-44a2-f5b9-c27b62862bf6"
      },
      "source": [
        "%%time\n",
        "boxcox(nyc_h2o_PC)"
      ],
      "id": "mysterious-spotlight",
      "execution_count": null,
      "outputs": [
        {
          "output_type": "stream",
          "text": [
            "CPU times: user 3.94 ms, sys: 0 ns, total: 3.94 ms\n",
            "Wall time: 2.54 ms\n"
          ],
          "name": "stdout"
        },
        {
          "output_type": "execute_result",
          "data": {
            "text/plain": [
              "(array([4.89941928, 4.89941928, 4.78176523, 4.82148355, 4.83852834,\n",
              "        4.85934038, 4.76808026, 4.78176523, 4.83430075, 4.8552207 ,\n",
              "        4.80845972, 4.82148355, 4.84273391, 4.77722923, 4.76808026,\n",
              "        4.75416   , 4.73041452, 4.70595268, 4.63325959, 4.63325959,\n",
              "        4.63867304, 4.63325959, 4.59432323, 4.55343395, 4.52292071,\n",
              "        4.52292071, 4.55343395, 4.49766282, 4.52911517, 4.51667897,\n",
              "        4.43781242, 4.46495352, 4.43781242, 4.42389756, 4.41685067,\n",
              "        4.40257287, 4.40974279, 4.40257287, 4.39533984, 4.41685067,\n",
              "        4.40257287]),\n",
              " -0.03412714546809122)"
            ]
          },
          "metadata": {
            "tags": []
          },
          "execution_count": 17
        }
      ]
    },
    {
      "cell_type": "markdown",
      "metadata": {
        "id": "knowing-delivery"
      },
      "source": [
        "Running the box-cox method  we can discover the lambda value of -0.03413. We can see that this is very\n",
        "close to a lambda value of 0.0, resulting in a square transform and weaker (more than) than -0.5 for\n",
        "the reciprocal square root transform."
      ],
      "id": "knowing-delivery"
    },
    {
      "cell_type": "markdown",
      "metadata": {
        "id": "threaded-tribute"
      },
      "source": [
        "The dataset is non-stationary, meaning that the mean and the variance of the observations\n",
        "change over time. This makes it difficult to model.\n",
        "Also, the amount of change, or the variance, is decreasing with time."
      ],
      "id": "threaded-tribute"
    },
    {
      "cell_type": "code",
      "metadata": {
        "id": "tough-superior",
        "outputId": "b2cea3e1-8fca-472b-929d-6003312494a6"
      },
      "source": [
        "%%time\n",
        "autocorrelation_plot(nyc_h2o_PC)"
      ],
      "id": "tough-superior",
      "execution_count": null,
      "outputs": [
        {
          "output_type": "stream",
          "text": [
            "CPU times: user 50.5 ms, sys: 4.64 ms, total: 55.2 ms\n",
            "Wall time: 39.6 ms\n"
          ],
          "name": "stdout"
        },
        {
          "output_type": "execute_result",
          "data": {
            "text/plain": [
              "<AxesSubplot:xlabel='Lag', ylabel='Autocorrelation'>"
            ]
          },
          "metadata": {
            "tags": []
          },
          "execution_count": 18
        },
        {
          "output_type": "display_data",
          "data": {
            "image/png": "[encoded data removed]",
            "text/plain": [
              "<Figure size 432x288 with 1 Axes>"
            ]
          },
          "metadata": {
            "tags": [],
            "needs_background": "light"
          }
        }
      ]
    },
    {
      "cell_type": "markdown",
      "metadata": {
        "id": "annual-variation"
      },
      "source": [
        "From the above plot we can determine that there is a strong positive autocorrelation when lags are less than 10, and strong negative autocorrelation when the lag is similar to 25.\n",
        "\n",
        "Whe can conclude that our series is not white noise."
      ],
      "id": "annual-variation"
    },
    {
      "cell_type": "code",
      "metadata": {
        "id": "associate-district",
        "outputId": "945bcd3c-5343-4832-80f7-e743fa6a6fb3"
      },
      "source": [
        "%%time\n",
        "autocorrelation_plot(nyc_h2o_MMD)"
      ],
      "id": "associate-district",
      "execution_count": null,
      "outputs": [
        {
          "output_type": "stream",
          "text": [
            "CPU times: user 28.4 ms, sys: 6.61 ms, total: 35 ms\n",
            "Wall time: 20.7 ms\n"
          ],
          "name": "stdout"
        },
        {
          "output_type": "execute_result",
          "data": {
            "text/plain": [
              "<AxesSubplot:xlabel='Lag', ylabel='Autocorrelation'>"
            ]
          },
          "metadata": {
            "tags": []
          },
          "execution_count": 19
        },
        {
          "output_type": "display_data",
          "data": {
            "image/png": "[encoded data removed]",
            "text/plain": [
              "<Figure size 432x288 with 1 Axes>"
            ]
          },
          "metadata": {
            "tags": [],
            "needs_background": "light"
          }
        }
      ]
    },
    {
      "cell_type": "markdown",
      "metadata": {
        "id": "steady-prague"
      },
      "source": [
        "From the above plot we can determine that there is a strong positive autocorrelation when lags are less than 10, and strong negative autocorrelation when the lag is similar to 25.\n",
        "\n",
        "Whe can conclude that our series is not white noise."
      ],
      "id": "steady-prague"
    },
    {
      "cell_type": "code",
      "metadata": {
        "id": "homeless-annual",
        "outputId": "b6b46a74-9181-4b45-d5ee-75688e33f963"
      },
      "source": [
        "%%time\n",
        "autocorrelation_plot(nyc_pop)"
      ],
      "id": "homeless-annual",
      "execution_count": null,
      "outputs": [
        {
          "output_type": "stream",
          "text": [
            "CPU times: user 20.4 ms, sys: 2.63 ms, total: 23.1 ms\n",
            "Wall time: 15.2 ms\n"
          ],
          "name": "stdout"
        },
        {
          "output_type": "execute_result",
          "data": {
            "text/plain": [
              "<AxesSubplot:xlabel='Lag', ylabel='Autocorrelation'>"
            ]
          },
          "metadata": {
            "tags": []
          },
          "execution_count": 20
        },
        {
          "output_type": "display_data",
          "data": {
            "image/png": "[encoded data removed]",
            "text/plain": [
              "<Figure size 432x288 with 1 Axes>"
            ]
          },
          "metadata": {
            "tags": [],
            "needs_background": "light"
          }
        }
      ]
    },
    {
      "cell_type": "markdown",
      "metadata": {
        "id": "treated-yeast"
      },
      "source": [
        "From the above plot we can determine that there is a strong positive autocorrelation when lags are less than 10, and strong negative autocorrelation when the lag is similar to 25.\n",
        "\n",
        "Whe can conclude that our series is not white noise."
      ],
      "id": "treated-yeast"
    },
    {
      "cell_type": "code",
      "metadata": {
        "id": "humanitarian-vertical",
        "outputId": "c2d676d8-7209-4657-be29-d2b460a7c9d4"
      },
      "source": [
        "%%time\n",
        "from statsmodels.tsa.seasonal import seasonal_decompose\n",
        "timeseries_data = pd.read_csv( 'archive/water-consumption-in-the-new-york-city.csv' , header=0, index_col=0, parse_dates=True,  infer_datetime_format=True)\n",
        "\n",
        "result = seasonal_decompose(timeseries_data['NYC Consumption(Million gallons per day)'], model= 'multiplicative' )\n",
        "result.plot()\n",
        "pyplot.show()"
      ],
      "id": "humanitarian-vertical",
      "execution_count": null,
      "outputs": [
        {
          "output_type": "display_data",
          "data": {
            "image/png": "[encoded data removed]",
            "text/plain": [
              "<Figure size 432x288 with 4 Axes>"
            ]
          },
          "metadata": {
            "tags": [],
            "needs_background": "light"
          }
        },
        {
          "output_type": "stream",
          "text": [
            "CPU times: user 453 ms, sys: 91.4 ms, total: 544 ms\n",
            "Wall time: 352 ms\n"
          ],
          "name": "stdout"
        }
      ]
    },
    {
      "cell_type": "code",
      "metadata": {
        "id": "hungarian-guinea",
        "outputId": "039554e3-652b-451f-8503-8fb3d987ee6f"
      },
      "source": [
        "%%time\n",
        "result = seasonal_decompose(timeseries_data['NYC Consumption(Million gallons per day)'], model= 'additive' )\n",
        "result.plot()\n",
        "pyplot.show()"
      ],
      "id": "hungarian-guinea",
      "execution_count": null,
      "outputs": [
        {
          "output_type": "display_data",
          "data": {
            "image/png": "[encoded data removed]",
            "text/plain": [
              "<Figure size 432x288 with 4 Axes>"
            ]
          },
          "metadata": {
            "tags": [],
            "needs_background": "light"
          }
        },
        {
          "output_type": "stream",
          "text": [
            "CPU times: user 464 ms, sys: 117 ms, total: 580 ms\n",
            "Wall time: 363 ms\n"
          ],
          "name": "stdout"
        }
      ]
    },
    {
      "cell_type": "markdown",
      "metadata": {
        "id": "proprietary-certification"
      },
      "source": [
        "We can see that the entire series was taken as the trend component and that there was\n",
        "no seasonality."
      ],
      "id": "proprietary-certification"
    },
    {
      "cell_type": "code",
      "metadata": {
        "id": "restricted-roulette",
        "outputId": "d7fbfb1f-a500-4909-ef5f-94f87bde1cc4"
      },
      "source": [
        "%%time\n",
        "X = timeseries_data['NYC Consumption(Million gallons per day)'].values\n",
        "diff = list()\n",
        "for i in range(1, len(X)):\n",
        "    value = X[i] - X[i - 1]\n",
        "    diff.append(value)\n",
        "pyplot.plot(diff)\n",
        "pyplot.show()"
      ],
      "id": "restricted-roulette",
      "execution_count": null,
      "outputs": [
        {
          "output_type": "display_data",
          "data": {
            "image/png": "[encoded data removed]",
            "text/plain": [
              "<Figure size 432x288 with 1 Axes>"
            ]
          },
          "metadata": {
            "tags": [],
            "needs_background": "light"
          }
        },
        {
          "output_type": "stream",
          "text": [
            "CPU times: user 90.4 ms, sys: 4.23 ms, total: 94.6 ms\n",
            "Wall time: 89 ms\n"
          ],
          "name": "stdout"
        }
      ]
    },
    {
      "cell_type": "code",
      "metadata": {
        "id": "hourly-telling",
        "outputId": "8a1e2cb2-c712-4962-8b8d-07afd4ede8e1"
      },
      "source": [
        "%%time\n",
        "from sklearn.linear_model import LinearRegression\n",
        "\n",
        "# fit linear model\n",
        "X = [i for i in range(0, len(timeseries_data['NYC Consumption(Million gallons per day)']))]\n",
        "X = np.reshape(X, (len(X), 1))\n",
        "y = timeseries_data['NYC Consumption(Million gallons per day)'].values\n",
        "model = LinearRegression()\n",
        "model.fit(X, y)\n",
        "# calculate trend\n",
        "trend = model.predict(X)\n",
        "# plot trend\n",
        "pyplot.plot(y)\n",
        "pyplot.plot(trend)\n",
        "pyplot.show()\n",
        "# detrend\n",
        "detrended = [y[i]-trend[i] for i in range(0, len(timeseries_data['NYC Consumption(Million gallons per day)']))]\n",
        "# plot detrended\n",
        "pyplot.plot(detrended)\n",
        "pyplot.show()"
      ],
      "id": "hourly-telling",
      "execution_count": null,
      "outputs": [
        {
          "output_type": "display_data",
          "data": {
            "image/png": "[encoded data removed]",
            "text/plain": [
              "<Figure size 432x288 with 1 Axes>"
            ]
          },
          "metadata": {
            "tags": [],
            "needs_background": "light"
          }
        },
        {
          "output_type": "display_data",
          "data": {
            "image/png": "[encoded data removed]",
            "text/plain": [
              "<Figure size 432x288 with 1 Axes>"
            ]
          },
          "metadata": {
            "tags": [],
            "needs_background": "light"
          }
        },
        {
          "output_type": "stream",
          "text": [
            "CPU times: user 220 ms, sys: 6.39 ms, total: 227 ms\n",
            "Wall time: 269 ms\n"
          ],
          "name": "stdout"
        }
      ]
    },
    {
      "cell_type": "markdown",
      "metadata": {
        "id": "blank-chosen"
      },
      "source": [
        "* This approach has effectively detrended the dataset. \n",
        "* There might be an exponential function in the residuals , suggesting that perhaps a polynomial fit may have done a better job."
      ],
      "id": "blank-chosen"
    },
    {
      "cell_type": "code",
      "metadata": {
        "id": "common-diamond",
        "outputId": "777dade5-183d-4f04-a32a-2fb73eff87b8"
      },
      "source": [
        "%%time\n",
        "from statsmodels.tsa.stattools import adfuller\n",
        "X = timeseries_data['NYC Consumption(Million gallons per day)'].values\n",
        "result = adfuller(X)\n",
        "print( 'ADF Statistic: %f' % result[0])\n",
        "print( 'p-value: %f' % result[1])\n",
        "print( 'Critical Values:' )\n",
        "for key, value in result[4].items():\n",
        "    print( '\\t%s: %.3f' % (key, value))"
      ],
      "id": "common-diamond",
      "execution_count": null,
      "outputs": [
        {
          "output_type": "stream",
          "text": [
            "ADF Statistic: -0.080603\n",
            "p-value: 0.951337\n",
            "Critical Values:\n",
            "\t1%: -3.616\n",
            "\t5%: -2.941\n",
            "\t10%: -2.609\n",
            "CPU times: user 7.28 ms, sys: 928 µs, total: 8.21 ms\n",
            "Wall time: 19.9 ms\n"
          ],
          "name": "stdout"
        }
      ]
    },
    {
      "cell_type": "markdown",
      "metadata": {
        "id": "vocational-knock"
      },
      "source": [
        "* The test statistic is negative , and it looks stationary.\n",
        "* Comparing the test statistic to the critical values, it looks like we can reject the null hypothesis with a significance level of less than 1%.\n",
        "\n"
      ],
      "id": "vocational-knock"
    },
    {
      "cell_type": "code",
      "metadata": {
        "id": "italian-james",
        "outputId": "5e224fc9-7e8b-4147-a421-524371c0f9f6"
      },
      "source": [
        "%%time\n",
        "# evaluate a persistence model\n",
        "# prepare data\n",
        "X = timeseries_data['NYC Consumption(Million gallons per day)'].values\n",
        "X = X.astype( 'float32' )\n",
        "train_size = int(len(X) * 0.50)\n",
        "train, test = X[0:train_size], X[train_size:]\n",
        "# walk-forward validation\n",
        "history = [x for x in train]\n",
        "predictions = list()\n",
        "for i in range(len(test)):\n",
        "# predict\n",
        "    yhat = history[-1]\n",
        "    predictions.append(yhat)\n",
        "    # observation\n",
        "    obs = test[i]\n",
        "    history.append(obs)\n",
        "    print( ' >Predicted=%.3f, Expected=%.3f ' % (yhat, obs))\n",
        "# report performance\n",
        "rmse = sqrt(mean_squared_error(test, predictions))\n",
        "print( ' RMSE: %.3f ' % rmse)"
      ],
      "id": "italian-james",
      "execution_count": null,
      "outputs": [
        {
          "output_type": "stream",
          "text": [
            " >Predicted=1219.500, Expected=1237.200 \n",
            " >Predicted=1237.200, Expected=1240.400 \n",
            " >Predicted=1240.400, Expected=1184.000 \n",
            " >Predicted=1184.000, Expected=1135.600 \n",
            " >Predicted=1135.600, Expected=1093.700 \n",
            " >Predicted=1093.700, Expected=1099.500 \n",
            " >Predicted=1099.500, Expected=1138.000 \n",
            " >Predicted=1138.000, Expected=1069.000 \n",
            " >Predicted=1069.000, Expected=1114.000 \n",
            " >Predicted=1114.000, Expected=1098.000 \n",
            " >Predicted=1098.000, Expected=1007.500 \n",
            " >Predicted=1007.500, Expected=1039.000 \n",
            " >Predicted=1039.000, Expected=1021.000 \n",
            " >Predicted=1021.000, Expected=1009.100 \n",
            " >Predicted=1009.100, Expected=1006.100 \n",
            " >Predicted=1006.100, Expected=996.000 \n",
            " >Predicted=996.000, Expected=1009.000 \n",
            " >Predicted=1009.000, Expected=1002.000 \n",
            " >Predicted=1002.000, Expected=990.200 \n",
            " >Predicted=990.200, Expected=1007.500 \n",
            " >Predicted=1007.500, Expected=987.400 \n",
            " RMSE: 35.844 \n",
            "CPU times: user 1.59 ms, sys: 0 ns, total: 1.59 ms\n",
            "Wall time: 1.14 ms\n"
          ],
          "name": "stdout"
        }
      ]
    },
    {
      "cell_type": "code",
      "metadata": {
        "id": "peripheral-skirt"
      },
      "source": [
        "# grid search ARIMA parameters for time series\n",
        "from math import sqrt\n",
        "from pandas import datetime\n",
        "from statsmodels.tsa.arima_model import ARIMA\n",
        "from sklearn.metrics import mean_squared_error\n",
        "\n",
        "# evaluate an ARIMA model for a given order (p,d,q)\n",
        "def evaluate_arima_model(X, arima_order):\n",
        "    # prepare training dataset\n",
        "    train_size = int(len(X) * 0.88)\n",
        "    train, test = X[0:train_size], X[train_size:]\n",
        "    history = [x for x in train]\n",
        "    # make predictions\n",
        "    predictions = list()\n",
        "    for t in range(len(test)):\n",
        "        model = ARIMA(history, order=arima_order)\n",
        "        model_fit = model.fit(disp=0)\n",
        "        yhat = model_fit.forecast()[0]\n",
        "        predictions.append(yhat)\n",
        "        history.append(test[t])\n",
        "        \n",
        "    # calculate out of sample error\n",
        "    rmse = sqrt(mean_squared_error(test, predictions))\n",
        "    return rmse   \n",
        "\n",
        "# evaluate combinations of p, d and q values for an ARIMA model\n",
        "def evaluate_models(dataset, p_values, d_values, q_values):\n",
        "    dataset = dataset.astype( 'float32' )\n",
        "    best_score, best_cfg = float(\"inf\"), None\n",
        "    for p in p_values:\n",
        "        for d in d_values:\n",
        "            for q in q_values:\n",
        "                order = (p,d,q)\n",
        "                try:\n",
        "                    rmse = evaluate_arima_model(dataset, order)\n",
        "                    if rmse < best_score:\n",
        "                        best_score, best_cfg = rmse, order\n",
        "                    print( ' ARIMA%s RMSE=%.3f ' % (order,rmse))\n",
        "                except:\n",
        "                    continue\n",
        "    print( ' Best ARIMA%s RMSE=%.3f ' % (best_cfg, best_score))"
      ],
      "id": "peripheral-skirt",
      "execution_count": null,
      "outputs": []
    },
    {
      "cell_type": "code",
      "metadata": {
        "id": "exact-preliminary",
        "outputId": "81d44e22-fa1e-463f-e991-ada3746420d8"
      },
      "source": [
        "%%time\n",
        "series = timeseries_data['NYC Consumption(Million gallons per day)'].values\n",
        "# evaluate parameters\n",
        "p_values = [0, 1, 2, 4, 6, 8, 10]\n",
        "d_values = range(0, 3)\n",
        "q_values = range(0, 3)\n",
        "\n",
        "evaluate_models(series, p_values, d_values, q_values)"
      ],
      "id": "exact-preliminary",
      "execution_count": null,
      "outputs": [
        {
          "output_type": "stream",
          "text": [
            " ARIMA(0, 0, 0) RMSE=241.742 \n",
            " ARIMA(0, 0, 1) RMSE=131.010 \n",
            " ARIMA(0, 0, 2) RMSE=95.330 \n",
            " ARIMA(0, 1, 0) RMSE=19.165 \n",
            " ARIMA(0, 1, 1) RMSE=26.420 \n",
            " ARIMA(0, 1, 2) RMSE=27.072 \n",
            " ARIMA(0, 2, 0) RMSE=25.632 \n",
            " ARIMA(0, 2, 1) RMSE=18.609 \n",
            " ARIMA(0, 2, 2) RMSE=27.862 \n",
            " ARIMA(1, 0, 0) RMSE=18.885 \n",
            " ARIMA(1, 0, 1) RMSE=14.618 \n",
            " ARIMA(1, 1, 0) RMSE=20.034 \n",
            " ARIMA(1, 1, 1) RMSE=27.993 \n",
            " ARIMA(1, 1, 2) RMSE=28.350 \n",
            " ARIMA(1, 2, 0) RMSE=19.933 \n",
            " ARIMA(2, 0, 0) RMSE=16.669 \n",
            " ARIMA(2, 1, 0) RMSE=22.988 \n",
            " ARIMA(2, 1, 1) RMSE=25.989 \n",
            " ARIMA(2, 1, 2) RMSE=20.032 \n",
            " ARIMA(2, 2, 0) RMSE=16.162 \n",
            " ARIMA(4, 0, 0) RMSE=13.274 \n",
            " ARIMA(4, 1, 0) RMSE=25.666 \n",
            " ARIMA(4, 1, 1) RMSE=24.409 \n",
            " ARIMA(4, 1, 2) RMSE=19.852 \n",
            " ARIMA(4, 2, 0) RMSE=13.474 \n",
            " ARIMA(4, 2, 1) RMSE=34.033 \n",
            " ARIMA(6, 0, 0) RMSE=14.783 \n",
            " ARIMA(6, 1, 0) RMSE=21.729 \n",
            " ARIMA(6, 1, 1) RMSE=22.051 \n",
            " ARIMA(6, 2, 1) RMSE=24.938 \n",
            " ARIMA(8, 0, 0) RMSE=15.662 \n",
            " ARIMA(8, 1, 0) RMSE=21.097 \n",
            " ARIMA(8, 1, 1) RMSE=23.192 \n",
            " ARIMA(10, 0, 2) RMSE=36.633 \n",
            " ARIMA(10, 1, 0) RMSE=31.183 \n",
            " ARIMA(10, 1, 1) RMSE=35.584 \n",
            " ARIMA(10, 1, 2) RMSE=31.954 \n",
            " Best ARIMA(4, 0, 0) RMSE=13.274 \n",
            "CPU times: user 31min 32s, sys: 29min 30s, total: 1h 1min 3s\n",
            "Wall time: 5min 25s\n"
          ],
          "name": "stdout"
        }
      ]
    },
    {
      "cell_type": "code",
      "metadata": {
        "id": "parliamentary-honor",
        "outputId": "52d7bce3-c171-4a2d-efce-4d84a06dc7df"
      },
      "source": [
        "X = timeseries_data['NYC Consumption(Million gallons per day)'].copy()\n",
        "train_size = int(len(X) * 0.88)\n",
        "train, test = X[0:train_size], X[train_size:]\n",
        "    \n",
        "model = ARIMA(train, order=(4, 0, 0))  \n",
        "fitted = model.fit(disp=0)  \n",
        "\n",
        "# Forecast\n",
        "fc, se, conf = fitted.forecast(5, alpha=0.05)  # 95% conf\n",
        "\n",
        "# Make as pandas series\n",
        "fc_series = pd.Series(fc, index=test.index)\n",
        "lower_series = pd.Series(conf[:, 0], index=test.index)\n",
        "upper_series = pd.Series(conf[:, 1], index=test.index)\n",
        "\n",
        "# Plot\n",
        "pyplot.figure(figsize=(12,5), dpi=100)\n",
        "pyplot.plot(train, label='training')\n",
        "pyplot.plot(test, label='actual')\n",
        "pyplot.plot(fc_series, label='forecast')\n",
        "pyplot.fill_between(lower_series.index, lower_series, upper_series, \n",
        "                 color='k', alpha=.15)\n",
        "pyplot.title('Forecast vs Actuals')\n",
        "pyplot.legend(loc='upper left', fontsize=8)\n",
        "pyplot.show()"
      ],
      "id": "parliamentary-honor",
      "execution_count": null,
      "outputs": [
        {
          "output_type": "display_data",
          "data": {
            "image/png": "[encoded data removed]",
            "text/plain": [
              "<Figure size 1200x500 with 1 Axes>"
            ]
          },
          "metadata": {
            "tags": [],
            "needs_background": "light"
          }
        }
      ]
    },
    {
      "cell_type": "code",
      "metadata": {
        "id": "saving-chick",
        "outputId": "84e728fa-fe46-462f-c985-3d75327406d6"
      },
      "source": [
        "X = timeseries_data['NYC Consumption(Million gallons per day)'].copy()\n",
        "train_size = int(len(X) * 0.88)\n",
        "train, test = X[0:train_size], X[train_size:]\n",
        "    \n",
        "model = ARIMA(train, order=(4, 0, 0))  \n",
        "fitted = model.fit(disp=0)  \n",
        "\n",
        "# Forecast\n",
        "fc, se, conf = fitted.forecast(5, alpha=0.5)  # 50% conf\n",
        "\n",
        "# Make as pandas series\n",
        "fc_series = pd.Series(fc, index=test.index)\n",
        "lower_series = pd.Series(conf[:, 0], index=test.index)\n",
        "upper_series = pd.Series(conf[:, 1], index=test.index)\n",
        "\n",
        "# Plot\n",
        "pyplot.figure(figsize=(12,5), dpi=100)\n",
        "pyplot.plot(train, label='training')\n",
        "pyplot.plot(test, label='actual')\n",
        "pyplot.plot(fc_series, label='forecast')\n",
        "pyplot.fill_between(lower_series.index, lower_series, upper_series, \n",
        "                 color='k', alpha=.15)\n",
        "pyplot.title('Forecast vs Actuals')\n",
        "pyplot.legend(loc='upper left', fontsize=8)\n",
        "pyplot.show()"
      ],
      "id": "saving-chick",
      "execution_count": null,
      "outputs": [
        {
          "output_type": "display_data",
          "data": {
            "image/png": "[encoded data removed]",
            "text/plain": [
              "<Figure size 1200x500 with 1 Axes>"
            ]
          },
          "metadata": {
            "tags": [],
            "needs_background": "light"
          }
        }
      ]
    },
    {
      "cell_type": "code",
      "metadata": {
        "id": "anonymous-maximum",
        "outputId": "42e51e93-9dac-41e0-e609-d04c95ea073a"
      },
      "source": [
        "import pandas as pd\n",
        "from fbprophet import Prophet\n",
        "import matplotlib.pyplot as plt\n",
        "\n",
        "df = pd.read_csv('archive/water-consumption-in-the-new-york-city.csv' , header=0, index_col=0, parse_dates=True,  infer_datetime_format=True)\n",
        "df"
      ],
      "id": "anonymous-maximum",
      "execution_count": null,
      "outputs": [
        {
          "output_type": "execute_result",
          "data": {
            "text/html": [
              "<div>\n",
              "<style scoped>\n",
              "    .dataframe tbody tr th:only-of-type {\n",
              "        vertical-align: middle;\n",
              "    }\n",
              "\n",
              "    .dataframe tbody tr th {\n",
              "        vertical-align: top;\n",
              "    }\n",
              "\n",
              "    .dataframe thead th {\n",
              "        text-align: right;\n",
              "    }\n",
              "</style>\n",
              "<table border=\"1\" class=\"dataframe\">\n",
              "  <thead>\n",
              "    <tr style=\"text-align: right;\">\n",
              "      <th></th>\n",
              "      <th>New York City Population</th>\n",
              "      <th>NYC Consumption(Million gallons per day)</th>\n",
              "      <th>Per Capita(Gallons per person per day)</th>\n",
              "    </tr>\n",
              "    <tr>\n",
              "      <th>Year</th>\n",
              "      <th></th>\n",
              "      <th></th>\n",
              "      <th></th>\n",
              "    </tr>\n",
              "  </thead>\n",
              "  <tbody>\n",
              "    <tr>\n",
              "      <th>1979-01-01</th>\n",
              "      <td>7102100.0</td>\n",
              "      <td>1512.0</td>\n",
              "      <td>213</td>\n",
              "    </tr>\n",
              "    <tr>\n",
              "      <th>1980-01-01</th>\n",
              "      <td>7071639.0</td>\n",
              "      <td>1506.0</td>\n",
              "      <td>213</td>\n",
              "    </tr>\n",
              "    <tr>\n",
              "      <th>1981-01-01</th>\n",
              "      <td>7089241.0</td>\n",
              "      <td>1309.0</td>\n",
              "      <td>185</td>\n",
              "    </tr>\n",
              "    <tr>\n",
              "      <th>1982-01-01</th>\n",
              "      <td>7109105.0</td>\n",
              "      <td>1382.0</td>\n",
              "      <td>194</td>\n",
              "    </tr>\n",
              "    <tr>\n",
              "      <th>1983-01-01</th>\n",
              "      <td>7181224.0</td>\n",
              "      <td>1424.0</td>\n",
              "      <td>198</td>\n",
              "    </tr>\n",
              "    <tr>\n",
              "      <th>1984-01-01</th>\n",
              "      <td>7234514.0</td>\n",
              "      <td>1465.0</td>\n",
              "      <td>203</td>\n",
              "    </tr>\n",
              "    <tr>\n",
              "      <th>1985-01-01</th>\n",
              "      <td>7274054.0</td>\n",
              "      <td>1326.0</td>\n",
              "      <td>182</td>\n",
              "    </tr>\n",
              "    <tr>\n",
              "      <th>1986-01-01</th>\n",
              "      <td>7319246.0</td>\n",
              "      <td>1351.0</td>\n",
              "      <td>185</td>\n",
              "    </tr>\n",
              "    <tr>\n",
              "      <th>1987-01-01</th>\n",
              "      <td>7342476.0</td>\n",
              "      <td>1447.0</td>\n",
              "      <td>197</td>\n",
              "    </tr>\n",
              "    <tr>\n",
              "      <th>1988-01-01</th>\n",
              "      <td>7353719.0</td>\n",
              "      <td>1484.0</td>\n",
              "      <td>202</td>\n",
              "    </tr>\n",
              "    <tr>\n",
              "      <th>1989-01-01</th>\n",
              "      <td>7344175.0</td>\n",
              "      <td>1402.0</td>\n",
              "      <td>191</td>\n",
              "    </tr>\n",
              "    <tr>\n",
              "      <th>1990-01-01</th>\n",
              "      <td>7335650.0</td>\n",
              "      <td>1424.0</td>\n",
              "      <td>194</td>\n",
              "    </tr>\n",
              "    <tr>\n",
              "      <th>1991-01-01</th>\n",
              "      <td>7374501.0</td>\n",
              "      <td>1469.0</td>\n",
              "      <td>199</td>\n",
              "    </tr>\n",
              "    <tr>\n",
              "      <th>1992-01-01</th>\n",
              "      <td>7428944.0</td>\n",
              "      <td>1369.0</td>\n",
              "      <td>184</td>\n",
              "    </tr>\n",
              "    <tr>\n",
              "      <th>1993-01-01</th>\n",
              "      <td>7506166.0</td>\n",
              "      <td>1368.5</td>\n",
              "      <td>182</td>\n",
              "    </tr>\n",
              "    <tr>\n",
              "      <th>1994-01-01</th>\n",
              "      <td>7570458.0</td>\n",
              "      <td>1357.7</td>\n",
              "      <td>179</td>\n",
              "    </tr>\n",
              "    <tr>\n",
              "      <th>1995-01-01</th>\n",
              "      <td>7633040.0</td>\n",
              "      <td>1325.7</td>\n",
              "      <td>174</td>\n",
              "    </tr>\n",
              "    <tr>\n",
              "      <th>1996-01-01</th>\n",
              "      <td>7697812.0</td>\n",
              "      <td>1297.9</td>\n",
              "      <td>169</td>\n",
              "    </tr>\n",
              "    <tr>\n",
              "      <th>1997-01-01</th>\n",
              "      <td>7773443.0</td>\n",
              "      <td>1205.5</td>\n",
              "      <td>155</td>\n",
              "    </tr>\n",
              "    <tr>\n",
              "      <th>1998-01-01</th>\n",
              "      <td>7858259.0</td>\n",
              "      <td>1219.5</td>\n",
              "      <td>155</td>\n",
              "    </tr>\n",
              "    <tr>\n",
              "      <th>1999-01-01</th>\n",
              "      <td>7947660.0</td>\n",
              "      <td>1237.2</td>\n",
              "      <td>156</td>\n",
              "    </tr>\n",
              "    <tr>\n",
              "      <th>2000-01-01</th>\n",
              "      <td>8008278.0</td>\n",
              "      <td>1240.4</td>\n",
              "      <td>155</td>\n",
              "    </tr>\n",
              "    <tr>\n",
              "      <th>2001-01-01</th>\n",
              "      <td>8024963.5</td>\n",
              "      <td>1184.0</td>\n",
              "      <td>148</td>\n",
              "    </tr>\n",
              "    <tr>\n",
              "      <th>2002-01-01</th>\n",
              "      <td>8041649.0</td>\n",
              "      <td>1135.6</td>\n",
              "      <td>141</td>\n",
              "    </tr>\n",
              "    <tr>\n",
              "      <th>2003-01-01</th>\n",
              "      <td>8058334.5</td>\n",
              "      <td>1093.7</td>\n",
              "      <td>136</td>\n",
              "    </tr>\n",
              "    <tr>\n",
              "      <th>2004-01-01</th>\n",
              "      <td>8075020.0</td>\n",
              "      <td>1099.5</td>\n",
              "      <td>136</td>\n",
              "    </tr>\n",
              "    <tr>\n",
              "      <th>2005-01-01</th>\n",
              "      <td>8091705.5</td>\n",
              "      <td>1138.0</td>\n",
              "      <td>141</td>\n",
              "    </tr>\n",
              "    <tr>\n",
              "      <th>2006-01-01</th>\n",
              "      <td>8108391.0</td>\n",
              "      <td>1069.0</td>\n",
              "      <td>132</td>\n",
              "    </tr>\n",
              "    <tr>\n",
              "      <th>2007-01-01</th>\n",
              "      <td>8125076.5</td>\n",
              "      <td>1114.0</td>\n",
              "      <td>137</td>\n",
              "    </tr>\n",
              "    <tr>\n",
              "      <th>2008-01-01</th>\n",
              "      <td>8141762.0</td>\n",
              "      <td>1098.0</td>\n",
              "      <td>135</td>\n",
              "    </tr>\n",
              "    <tr>\n",
              "      <th>2009-01-01</th>\n",
              "      <td>8158447.5</td>\n",
              "      <td>1007.5</td>\n",
              "      <td>123</td>\n",
              "    </tr>\n",
              "    <tr>\n",
              "      <th>2010-01-01</th>\n",
              "      <td>8175133.0</td>\n",
              "      <td>1039.0</td>\n",
              "      <td>127</td>\n",
              "    </tr>\n",
              "    <tr>\n",
              "      <th>2011-01-01</th>\n",
              "      <td>8272963.0</td>\n",
              "      <td>1021.0</td>\n",
              "      <td>123</td>\n",
              "    </tr>\n",
              "    <tr>\n",
              "      <th>2012-01-01</th>\n",
              "      <td>8348032.0</td>\n",
              "      <td>1009.1</td>\n",
              "      <td>121</td>\n",
              "    </tr>\n",
              "    <tr>\n",
              "      <th>2013-01-01</th>\n",
              "      <td>8398739.0</td>\n",
              "      <td>1006.1</td>\n",
              "      <td>120</td>\n",
              "    </tr>\n",
              "    <tr>\n",
              "      <th>2014-01-01</th>\n",
              "      <td>8437387.0</td>\n",
              "      <td>996.0</td>\n",
              "      <td>118</td>\n",
              "    </tr>\n",
              "    <tr>\n",
              "      <th>2015-01-01</th>\n",
              "      <td>8468181.0</td>\n",
              "      <td>1009.0</td>\n",
              "      <td>119</td>\n",
              "    </tr>\n",
              "    <tr>\n",
              "      <th>2016-01-01</th>\n",
              "      <td>8475976.0</td>\n",
              "      <td>1002.0</td>\n",
              "      <td>118</td>\n",
              "    </tr>\n",
              "    <tr>\n",
              "      <th>2017-01-01</th>\n",
              "      <td>8438271.0</td>\n",
              "      <td>990.2</td>\n",
              "      <td>117</td>\n",
              "    </tr>\n",
              "    <tr>\n",
              "      <th>2018-01-01</th>\n",
              "      <td>8398748.0</td>\n",
              "      <td>1007.5</td>\n",
              "      <td>120</td>\n",
              "    </tr>\n",
              "    <tr>\n",
              "      <th>2019-01-01</th>\n",
              "      <td>8336817.0</td>\n",
              "      <td>987.4</td>\n",
              "      <td>118</td>\n",
              "    </tr>\n",
              "  </tbody>\n",
              "</table>\n",
              "</div>"
            ],
            "text/plain": [
              "            New York City Population  \\\n",
              "Year                                   \n",
              "1979-01-01                 7102100.0   \n",
              "1980-01-01                 7071639.0   \n",
              "1981-01-01                 7089241.0   \n",
              "1982-01-01                 7109105.0   \n",
              "1983-01-01                 7181224.0   \n",
              "1984-01-01                 7234514.0   \n",
              "1985-01-01                 7274054.0   \n",
              "1986-01-01                 7319246.0   \n",
              "1987-01-01                 7342476.0   \n",
              "1988-01-01                 7353719.0   \n",
              "1989-01-01                 7344175.0   \n",
              "1990-01-01                 7335650.0   \n",
              "1991-01-01                 7374501.0   \n",
              "1992-01-01                 7428944.0   \n",
              "1993-01-01                 7506166.0   \n",
              "1994-01-01                 7570458.0   \n",
              "1995-01-01                 7633040.0   \n",
              "1996-01-01                 7697812.0   \n",
              "1997-01-01                 7773443.0   \n",
              "1998-01-01                 7858259.0   \n",
              "1999-01-01                 7947660.0   \n",
              "2000-01-01                 8008278.0   \n",
              "2001-01-01                 8024963.5   \n",
              "2002-01-01                 8041649.0   \n",
              "2003-01-01                 8058334.5   \n",
              "2004-01-01                 8075020.0   \n",
              "2005-01-01                 8091705.5   \n",
              "2006-01-01                 8108391.0   \n",
              "2007-01-01                 8125076.5   \n",
              "2008-01-01                 8141762.0   \n",
              "2009-01-01                 8158447.5   \n",
              "2010-01-01                 8175133.0   \n",
              "2011-01-01                 8272963.0   \n",
              "2012-01-01                 8348032.0   \n",
              "2013-01-01                 8398739.0   \n",
              "2014-01-01                 8437387.0   \n",
              "2015-01-01                 8468181.0   \n",
              "2016-01-01                 8475976.0   \n",
              "2017-01-01                 8438271.0   \n",
              "2018-01-01                 8398748.0   \n",
              "2019-01-01                 8336817.0   \n",
              "\n",
              "            NYC Consumption(Million gallons per day)  \\\n",
              "Year                                                   \n",
              "1979-01-01                                    1512.0   \n",
              "1980-01-01                                    1506.0   \n",
              "1981-01-01                                    1309.0   \n",
              "1982-01-01                                    1382.0   \n",
              "1983-01-01                                    1424.0   \n",
              "1984-01-01                                    1465.0   \n",
              "1985-01-01                                    1326.0   \n",
              "1986-01-01                                    1351.0   \n",
              "1987-01-01                                    1447.0   \n",
              "1988-01-01                                    1484.0   \n",
              "1989-01-01                                    1402.0   \n",
              "1990-01-01                                    1424.0   \n",
              "1991-01-01                                    1469.0   \n",
              "1992-01-01                                    1369.0   \n",
              "1993-01-01                                    1368.5   \n",
              "1994-01-01                                    1357.7   \n",
              "1995-01-01                                    1325.7   \n",
              "1996-01-01                                    1297.9   \n",
              "1997-01-01                                    1205.5   \n",
              "1998-01-01                                    1219.5   \n",
              "1999-01-01                                    1237.2   \n",
              "2000-01-01                                    1240.4   \n",
              "2001-01-01                                    1184.0   \n",
              "2002-01-01                                    1135.6   \n",
              "2003-01-01                                    1093.7   \n",
              "2004-01-01                                    1099.5   \n",
              "2005-01-01                                    1138.0   \n",
              "2006-01-01                                    1069.0   \n",
              "2007-01-01                                    1114.0   \n",
              "2008-01-01                                    1098.0   \n",
              "2009-01-01                                    1007.5   \n",
              "2010-01-01                                    1039.0   \n",
              "2011-01-01                                    1021.0   \n",
              "2012-01-01                                    1009.1   \n",
              "2013-01-01                                    1006.1   \n",
              "2014-01-01                                     996.0   \n",
              "2015-01-01                                    1009.0   \n",
              "2016-01-01                                    1002.0   \n",
              "2017-01-01                                     990.2   \n",
              "2018-01-01                                    1007.5   \n",
              "2019-01-01                                     987.4   \n",
              "\n",
              "            Per Capita(Gallons per person per day)  \n",
              "Year                                                \n",
              "1979-01-01                                     213  \n",
              "1980-01-01                                     213  \n",
              "1981-01-01                                     185  \n",
              "1982-01-01                                     194  \n",
              "1983-01-01                                     198  \n",
              "1984-01-01                                     203  \n",
              "1985-01-01                                     182  \n",
              "1986-01-01                                     185  \n",
              "1987-01-01                                     197  \n",
              "1988-01-01                                     202  \n",
              "1989-01-01                                     191  \n",
              "1990-01-01                                     194  \n",
              "1991-01-01                                     199  \n",
              "1992-01-01                                     184  \n",
              "1993-01-01                                     182  \n",
              "1994-01-01                                     179  \n",
              "1995-01-01                                     174  \n",
              "1996-01-01                                     169  \n",
              "1997-01-01                                     155  \n",
              "1998-01-01                                     155  \n",
              "1999-01-01                                     156  \n",
              "2000-01-01                                     155  \n",
              "2001-01-01                                     148  \n",
              "2002-01-01                                     141  \n",
              "2003-01-01                                     136  \n",
              "2004-01-01                                     136  \n",
              "2005-01-01                                     141  \n",
              "2006-01-01                                     132  \n",
              "2007-01-01                                     137  \n",
              "2008-01-01                                     135  \n",
              "2009-01-01                                     123  \n",
              "2010-01-01                                     127  \n",
              "2011-01-01                                     123  \n",
              "2012-01-01                                     121  \n",
              "2013-01-01                                     120  \n",
              "2014-01-01                                     118  \n",
              "2015-01-01                                     119  \n",
              "2016-01-01                                     118  \n",
              "2017-01-01                                     117  \n",
              "2018-01-01                                     120  \n",
              "2019-01-01                                     118  "
            ]
          },
          "metadata": {
            "tags": []
          },
          "execution_count": 31
        }
      ]
    },
    {
      "cell_type": "code",
      "metadata": {
        "id": "hollywood-fishing"
      },
      "source": [
        "df_MMgpd = pd.DataFrame()"
      ],
      "id": "hollywood-fishing",
      "execution_count": null,
      "outputs": []
    },
    {
      "cell_type": "code",
      "metadata": {
        "id": "south-leader"
      },
      "source": [
        "df_MMgpd['ds'] = pd.DatetimeIndex(df.index)\n",
        "df_MMgpd['y']  = df['NYC Consumption(Million gallons per day)'].values"
      ],
      "id": "south-leader",
      "execution_count": null,
      "outputs": []
    },
    {
      "cell_type": "code",
      "metadata": {
        "id": "endangered-garage",
        "outputId": "8393850b-bb12-4074-9ae4-5ead34bb7996"
      },
      "source": [
        "df_MMgpd.info()"
      ],
      "id": "endangered-garage",
      "execution_count": null,
      "outputs": [
        {
          "output_type": "stream",
          "text": [
            "<class 'pandas.core.frame.DataFrame'>\n",
            "RangeIndex: 41 entries, 0 to 40\n",
            "Data columns (total 2 columns):\n",
            " #   Column  Non-Null Count  Dtype         \n",
            "---  ------  --------------  -----         \n",
            " 0   ds      41 non-null     datetime64[ns]\n",
            " 1   y       41 non-null     float64       \n",
            "dtypes: datetime64[ns](1), float64(1)\n",
            "memory usage: 784.0 bytes\n"
          ],
          "name": "stdout"
        }
      ]
    },
    {
      "cell_type": "code",
      "metadata": {
        "id": "positive-knitting",
        "outputId": "b9541c2c-6f43-448d-cfe5-fd49993aae9a"
      },
      "source": [
        "\n",
        "df_MMgpd"
      ],
      "id": "positive-knitting",
      "execution_count": null,
      "outputs": [
        {
          "output_type": "execute_result",
          "data": {
            "text/html": [
              "<div>\n",
              "<style scoped>\n",
              "    .dataframe tbody tr th:only-of-type {\n",
              "        vertical-align: middle;\n",
              "    }\n",
              "\n",
              "    .dataframe tbody tr th {\n",
              "        vertical-align: top;\n",
              "    }\n",
              "\n",
              "    .dataframe thead th {\n",
              "        text-align: right;\n",
              "    }\n",
              "</style>\n",
              "<table border=\"1\" class=\"dataframe\">\n",
              "  <thead>\n",
              "    <tr style=\"text-align: right;\">\n",
              "      <th></th>\n",
              "      <th>ds</th>\n",
              "      <th>y</th>\n",
              "    </tr>\n",
              "  </thead>\n",
              "  <tbody>\n",
              "    <tr>\n",
              "      <th>0</th>\n",
              "      <td>1979-01-01</td>\n",
              "      <td>1512.0</td>\n",
              "    </tr>\n",
              "    <tr>\n",
              "      <th>1</th>\n",
              "      <td>1980-01-01</td>\n",
              "      <td>1506.0</td>\n",
              "    </tr>\n",
              "    <tr>\n",
              "      <th>2</th>\n",
              "      <td>1981-01-01</td>\n",
              "      <td>1309.0</td>\n",
              "    </tr>\n",
              "    <tr>\n",
              "      <th>3</th>\n",
              "      <td>1982-01-01</td>\n",
              "      <td>1382.0</td>\n",
              "    </tr>\n",
              "    <tr>\n",
              "      <th>4</th>\n",
              "      <td>1983-01-01</td>\n",
              "      <td>1424.0</td>\n",
              "    </tr>\n",
              "    <tr>\n",
              "      <th>5</th>\n",
              "      <td>1984-01-01</td>\n",
              "      <td>1465.0</td>\n",
              "    </tr>\n",
              "    <tr>\n",
              "      <th>6</th>\n",
              "      <td>1985-01-01</td>\n",
              "      <td>1326.0</td>\n",
              "    </tr>\n",
              "    <tr>\n",
              "      <th>7</th>\n",
              "      <td>1986-01-01</td>\n",
              "      <td>1351.0</td>\n",
              "    </tr>\n",
              "    <tr>\n",
              "      <th>8</th>\n",
              "      <td>1987-01-01</td>\n",
              "      <td>1447.0</td>\n",
              "    </tr>\n",
              "    <tr>\n",
              "      <th>9</th>\n",
              "      <td>1988-01-01</td>\n",
              "      <td>1484.0</td>\n",
              "    </tr>\n",
              "    <tr>\n",
              "      <th>10</th>\n",
              "      <td>1989-01-01</td>\n",
              "      <td>1402.0</td>\n",
              "    </tr>\n",
              "    <tr>\n",
              "      <th>11</th>\n",
              "      <td>1990-01-01</td>\n",
              "      <td>1424.0</td>\n",
              "    </tr>\n",
              "    <tr>\n",
              "      <th>12</th>\n",
              "      <td>1991-01-01</td>\n",
              "      <td>1469.0</td>\n",
              "    </tr>\n",
              "    <tr>\n",
              "      <th>13</th>\n",
              "      <td>1992-01-01</td>\n",
              "      <td>1369.0</td>\n",
              "    </tr>\n",
              "    <tr>\n",
              "      <th>14</th>\n",
              "      <td>1993-01-01</td>\n",
              "      <td>1368.5</td>\n",
              "    </tr>\n",
              "    <tr>\n",
              "      <th>15</th>\n",
              "      <td>1994-01-01</td>\n",
              "      <td>1357.7</td>\n",
              "    </tr>\n",
              "    <tr>\n",
              "      <th>16</th>\n",
              "      <td>1995-01-01</td>\n",
              "      <td>1325.7</td>\n",
              "    </tr>\n",
              "    <tr>\n",
              "      <th>17</th>\n",
              "      <td>1996-01-01</td>\n",
              "      <td>1297.9</td>\n",
              "    </tr>\n",
              "    <tr>\n",
              "      <th>18</th>\n",
              "      <td>1997-01-01</td>\n",
              "      <td>1205.5</td>\n",
              "    </tr>\n",
              "    <tr>\n",
              "      <th>19</th>\n",
              "      <td>1998-01-01</td>\n",
              "      <td>1219.5</td>\n",
              "    </tr>\n",
              "    <tr>\n",
              "      <th>20</th>\n",
              "      <td>1999-01-01</td>\n",
              "      <td>1237.2</td>\n",
              "    </tr>\n",
              "    <tr>\n",
              "      <th>21</th>\n",
              "      <td>2000-01-01</td>\n",
              "      <td>1240.4</td>\n",
              "    </tr>\n",
              "    <tr>\n",
              "      <th>22</th>\n",
              "      <td>2001-01-01</td>\n",
              "      <td>1184.0</td>\n",
              "    </tr>\n",
              "    <tr>\n",
              "      <th>23</th>\n",
              "      <td>2002-01-01</td>\n",
              "      <td>1135.6</td>\n",
              "    </tr>\n",
              "    <tr>\n",
              "      <th>24</th>\n",
              "      <td>2003-01-01</td>\n",
              "      <td>1093.7</td>\n",
              "    </tr>\n",
              "    <tr>\n",
              "      <th>25</th>\n",
              "      <td>2004-01-01</td>\n",
              "      <td>1099.5</td>\n",
              "    </tr>\n",
              "    <tr>\n",
              "      <th>26</th>\n",
              "      <td>2005-01-01</td>\n",
              "      <td>1138.0</td>\n",
              "    </tr>\n",
              "    <tr>\n",
              "      <th>27</th>\n",
              "      <td>2006-01-01</td>\n",
              "      <td>1069.0</td>\n",
              "    </tr>\n",
              "    <tr>\n",
              "      <th>28</th>\n",
              "      <td>2007-01-01</td>\n",
              "      <td>1114.0</td>\n",
              "    </tr>\n",
              "    <tr>\n",
              "      <th>29</th>\n",
              "      <td>2008-01-01</td>\n",
              "      <td>1098.0</td>\n",
              "    </tr>\n",
              "    <tr>\n",
              "      <th>30</th>\n",
              "      <td>2009-01-01</td>\n",
              "      <td>1007.5</td>\n",
              "    </tr>\n",
              "    <tr>\n",
              "      <th>31</th>\n",
              "      <td>2010-01-01</td>\n",
              "      <td>1039.0</td>\n",
              "    </tr>\n",
              "    <tr>\n",
              "      <th>32</th>\n",
              "      <td>2011-01-01</td>\n",
              "      <td>1021.0</td>\n",
              "    </tr>\n",
              "    <tr>\n",
              "      <th>33</th>\n",
              "      <td>2012-01-01</td>\n",
              "      <td>1009.1</td>\n",
              "    </tr>\n",
              "    <tr>\n",
              "      <th>34</th>\n",
              "      <td>2013-01-01</td>\n",
              "      <td>1006.1</td>\n",
              "    </tr>\n",
              "    <tr>\n",
              "      <th>35</th>\n",
              "      <td>2014-01-01</td>\n",
              "      <td>996.0</td>\n",
              "    </tr>\n",
              "    <tr>\n",
              "      <th>36</th>\n",
              "      <td>2015-01-01</td>\n",
              "      <td>1009.0</td>\n",
              "    </tr>\n",
              "    <tr>\n",
              "      <th>37</th>\n",
              "      <td>2016-01-01</td>\n",
              "      <td>1002.0</td>\n",
              "    </tr>\n",
              "    <tr>\n",
              "      <th>38</th>\n",
              "      <td>2017-01-01</td>\n",
              "      <td>990.2</td>\n",
              "    </tr>\n",
              "    <tr>\n",
              "      <th>39</th>\n",
              "      <td>2018-01-01</td>\n",
              "      <td>1007.5</td>\n",
              "    </tr>\n",
              "    <tr>\n",
              "      <th>40</th>\n",
              "      <td>2019-01-01</td>\n",
              "      <td>987.4</td>\n",
              "    </tr>\n",
              "  </tbody>\n",
              "</table>\n",
              "</div>"
            ],
            "text/plain": [
              "           ds       y\n",
              "0  1979-01-01  1512.0\n",
              "1  1980-01-01  1506.0\n",
              "2  1981-01-01  1309.0\n",
              "3  1982-01-01  1382.0\n",
              "4  1983-01-01  1424.0\n",
              "5  1984-01-01  1465.0\n",
              "6  1985-01-01  1326.0\n",
              "7  1986-01-01  1351.0\n",
              "8  1987-01-01  1447.0\n",
              "9  1988-01-01  1484.0\n",
              "10 1989-01-01  1402.0\n",
              "11 1990-01-01  1424.0\n",
              "12 1991-01-01  1469.0\n",
              "13 1992-01-01  1369.0\n",
              "14 1993-01-01  1368.5\n",
              "15 1994-01-01  1357.7\n",
              "16 1995-01-01  1325.7\n",
              "17 1996-01-01  1297.9\n",
              "18 1997-01-01  1205.5\n",
              "19 1998-01-01  1219.5\n",
              "20 1999-01-01  1237.2\n",
              "21 2000-01-01  1240.4\n",
              "22 2001-01-01  1184.0\n",
              "23 2002-01-01  1135.6\n",
              "24 2003-01-01  1093.7\n",
              "25 2004-01-01  1099.5\n",
              "26 2005-01-01  1138.0\n",
              "27 2006-01-01  1069.0\n",
              "28 2007-01-01  1114.0\n",
              "29 2008-01-01  1098.0\n",
              "30 2009-01-01  1007.5\n",
              "31 2010-01-01  1039.0\n",
              "32 2011-01-01  1021.0\n",
              "33 2012-01-01  1009.1\n",
              "34 2013-01-01  1006.1\n",
              "35 2014-01-01   996.0\n",
              "36 2015-01-01  1009.0\n",
              "37 2016-01-01  1002.0\n",
              "38 2017-01-01   990.2\n",
              "39 2018-01-01  1007.5\n",
              "40 2019-01-01   987.4"
            ]
          },
          "metadata": {
            "tags": []
          },
          "execution_count": 35
        }
      ]
    },
    {
      "cell_type": "code",
      "metadata": {
        "id": "desperate-store"
      },
      "source": [
        "my_model = Prophet(interval_width=1)"
      ],
      "id": "desperate-store",
      "execution_count": null,
      "outputs": []
    },
    {
      "cell_type": "code",
      "metadata": {
        "id": "fiscal-border",
        "outputId": "784a7bea-75b9-499c-cd1b-e2fc0c03a1b1"
      },
      "source": [
        "my_model.fit(df_MMgpd)"
      ],
      "id": "fiscal-border",
      "execution_count": null,
      "outputs": [
        {
          "output_type": "stream",
          "text": [
            "INFO:fbprophet:Disabling weekly seasonality. Run prophet with weekly_seasonality=True to override this.\n",
            "INFO:fbprophet:Disabling daily seasonality. Run prophet with daily_seasonality=True to override this.\n"
          ],
          "name": "stderr"
        },
        {
          "output_type": "execute_result",
          "data": {
            "text/plain": [
              "<fbprophet.forecaster.Prophet at 0x7f24e17b21c0>"
            ]
          },
          "metadata": {
            "tags": []
          },
          "execution_count": 38
        }
      ]
    },
    {
      "cell_type": "code",
      "metadata": {
        "id": "accessible-celtic",
        "outputId": "dd9b54ca-b6b9-47ba-c0fd-7d144c5b5dfa"
      },
      "source": [
        "future_dates = my_model.make_future_dataframe(periods=10, freq='Y')\n",
        "future_dates"
      ],
      "id": "accessible-celtic",
      "execution_count": null,
      "outputs": [
        {
          "output_type": "execute_result",
          "data": {
            "text/html": [
              "<div>\n",
              "<style scoped>\n",
              "    .dataframe tbody tr th:only-of-type {\n",
              "        vertical-align: middle;\n",
              "    }\n",
              "\n",
              "    .dataframe tbody tr th {\n",
              "        vertical-align: top;\n",
              "    }\n",
              "\n",
              "    .dataframe thead th {\n",
              "        text-align: right;\n",
              "    }\n",
              "</style>\n",
              "<table border=\"1\" class=\"dataframe\">\n",
              "  <thead>\n",
              "    <tr style=\"text-align: right;\">\n",
              "      <th></th>\n",
              "      <th>ds</th>\n",
              "    </tr>\n",
              "  </thead>\n",
              "  <tbody>\n",
              "    <tr>\n",
              "      <th>0</th>\n",
              "      <td>1979-01-01</td>\n",
              "    </tr>\n",
              "    <tr>\n",
              "      <th>1</th>\n",
              "      <td>1980-01-01</td>\n",
              "    </tr>\n",
              "    <tr>\n",
              "      <th>2</th>\n",
              "      <td>1981-01-01</td>\n",
              "    </tr>\n",
              "    <tr>\n",
              "      <th>3</th>\n",
              "      <td>1982-01-01</td>\n",
              "    </tr>\n",
              "    <tr>\n",
              "      <th>4</th>\n",
              "      <td>1983-01-01</td>\n",
              "    </tr>\n",
              "    <tr>\n",
              "      <th>5</th>\n",
              "      <td>1984-01-01</td>\n",
              "    </tr>\n",
              "    <tr>\n",
              "      <th>6</th>\n",
              "      <td>1985-01-01</td>\n",
              "    </tr>\n",
              "    <tr>\n",
              "      <th>7</th>\n",
              "      <td>1986-01-01</td>\n",
              "    </tr>\n",
              "    <tr>\n",
              "      <th>8</th>\n",
              "      <td>1987-01-01</td>\n",
              "    </tr>\n",
              "    <tr>\n",
              "      <th>9</th>\n",
              "      <td>1988-01-01</td>\n",
              "    </tr>\n",
              "    <tr>\n",
              "      <th>10</th>\n",
              "      <td>1989-01-01</td>\n",
              "    </tr>\n",
              "    <tr>\n",
              "      <th>11</th>\n",
              "      <td>1990-01-01</td>\n",
              "    </tr>\n",
              "    <tr>\n",
              "      <th>12</th>\n",
              "      <td>1991-01-01</td>\n",
              "    </tr>\n",
              "    <tr>\n",
              "      <th>13</th>\n",
              "      <td>1992-01-01</td>\n",
              "    </tr>\n",
              "    <tr>\n",
              "      <th>14</th>\n",
              "      <td>1993-01-01</td>\n",
              "    </tr>\n",
              "    <tr>\n",
              "      <th>15</th>\n",
              "      <td>1994-01-01</td>\n",
              "    </tr>\n",
              "    <tr>\n",
              "      <th>16</th>\n",
              "      <td>1995-01-01</td>\n",
              "    </tr>\n",
              "    <tr>\n",
              "      <th>17</th>\n",
              "      <td>1996-01-01</td>\n",
              "    </tr>\n",
              "    <tr>\n",
              "      <th>18</th>\n",
              "      <td>1997-01-01</td>\n",
              "    </tr>\n",
              "    <tr>\n",
              "      <th>19</th>\n",
              "      <td>1998-01-01</td>\n",
              "    </tr>\n",
              "    <tr>\n",
              "      <th>20</th>\n",
              "      <td>1999-01-01</td>\n",
              "    </tr>\n",
              "    <tr>\n",
              "      <th>21</th>\n",
              "      <td>2000-01-01</td>\n",
              "    </tr>\n",
              "    <tr>\n",
              "      <th>22</th>\n",
              "      <td>2001-01-01</td>\n",
              "    </tr>\n",
              "    <tr>\n",
              "      <th>23</th>\n",
              "      <td>2002-01-01</td>\n",
              "    </tr>\n",
              "    <tr>\n",
              "      <th>24</th>\n",
              "      <td>2003-01-01</td>\n",
              "    </tr>\n",
              "    <tr>\n",
              "      <th>25</th>\n",
              "      <td>2004-01-01</td>\n",
              "    </tr>\n",
              "    <tr>\n",
              "      <th>26</th>\n",
              "      <td>2005-01-01</td>\n",
              "    </tr>\n",
              "    <tr>\n",
              "      <th>27</th>\n",
              "      <td>2006-01-01</td>\n",
              "    </tr>\n",
              "    <tr>\n",
              "      <th>28</th>\n",
              "      <td>2007-01-01</td>\n",
              "    </tr>\n",
              "    <tr>\n",
              "      <th>29</th>\n",
              "      <td>2008-01-01</td>\n",
              "    </tr>\n",
              "    <tr>\n",
              "      <th>30</th>\n",
              "      <td>2009-01-01</td>\n",
              "    </tr>\n",
              "    <tr>\n",
              "      <th>31</th>\n",
              "      <td>2010-01-01</td>\n",
              "    </tr>\n",
              "    <tr>\n",
              "      <th>32</th>\n",
              "      <td>2011-01-01</td>\n",
              "    </tr>\n",
              "    <tr>\n",
              "      <th>33</th>\n",
              "      <td>2012-01-01</td>\n",
              "    </tr>\n",
              "    <tr>\n",
              "      <th>34</th>\n",
              "      <td>2013-01-01</td>\n",
              "    </tr>\n",
              "    <tr>\n",
              "      <th>35</th>\n",
              "      <td>2014-01-01</td>\n",
              "    </tr>\n",
              "    <tr>\n",
              "      <th>36</th>\n",
              "      <td>2015-01-01</td>\n",
              "    </tr>\n",
              "    <tr>\n",
              "      <th>37</th>\n",
              "      <td>2016-01-01</td>\n",
              "    </tr>\n",
              "    <tr>\n",
              "      <th>38</th>\n",
              "      <td>2017-01-01</td>\n",
              "    </tr>\n",
              "    <tr>\n",
              "      <th>39</th>\n",
              "      <td>2018-01-01</td>\n",
              "    </tr>\n",
              "    <tr>\n",
              "      <th>40</th>\n",
              "      <td>2019-01-01</td>\n",
              "    </tr>\n",
              "    <tr>\n",
              "      <th>41</th>\n",
              "      <td>2019-12-31</td>\n",
              "    </tr>\n",
              "    <tr>\n",
              "      <th>42</th>\n",
              "      <td>2020-12-31</td>\n",
              "    </tr>\n",
              "    <tr>\n",
              "      <th>43</th>\n",
              "      <td>2021-12-31</td>\n",
              "    </tr>\n",
              "    <tr>\n",
              "      <th>44</th>\n",
              "      <td>2022-12-31</td>\n",
              "    </tr>\n",
              "    <tr>\n",
              "      <th>45</th>\n",
              "      <td>2023-12-31</td>\n",
              "    </tr>\n",
              "    <tr>\n",
              "      <th>46</th>\n",
              "      <td>2024-12-31</td>\n",
              "    </tr>\n",
              "    <tr>\n",
              "      <th>47</th>\n",
              "      <td>2025-12-31</td>\n",
              "    </tr>\n",
              "    <tr>\n",
              "      <th>48</th>\n",
              "      <td>2026-12-31</td>\n",
              "    </tr>\n",
              "    <tr>\n",
              "      <th>49</th>\n",
              "      <td>2027-12-31</td>\n",
              "    </tr>\n",
              "    <tr>\n",
              "      <th>50</th>\n",
              "      <td>2028-12-31</td>\n",
              "    </tr>\n",
              "  </tbody>\n",
              "</table>\n",
              "</div>"
            ],
            "text/plain": [
              "           ds\n",
              "0  1979-01-01\n",
              "1  1980-01-01\n",
              "2  1981-01-01\n",
              "3  1982-01-01\n",
              "4  1983-01-01\n",
              "5  1984-01-01\n",
              "6  1985-01-01\n",
              "7  1986-01-01\n",
              "8  1987-01-01\n",
              "9  1988-01-01\n",
              "10 1989-01-01\n",
              "11 1990-01-01\n",
              "12 1991-01-01\n",
              "13 1992-01-01\n",
              "14 1993-01-01\n",
              "15 1994-01-01\n",
              "16 1995-01-01\n",
              "17 1996-01-01\n",
              "18 1997-01-01\n",
              "19 1998-01-01\n",
              "20 1999-01-01\n",
              "21 2000-01-01\n",
              "22 2001-01-01\n",
              "23 2002-01-01\n",
              "24 2003-01-01\n",
              "25 2004-01-01\n",
              "26 2005-01-01\n",
              "27 2006-01-01\n",
              "28 2007-01-01\n",
              "29 2008-01-01\n",
              "30 2009-01-01\n",
              "31 2010-01-01\n",
              "32 2011-01-01\n",
              "33 2012-01-01\n",
              "34 2013-01-01\n",
              "35 2014-01-01\n",
              "36 2015-01-01\n",
              "37 2016-01-01\n",
              "38 2017-01-01\n",
              "39 2018-01-01\n",
              "40 2019-01-01\n",
              "41 2019-12-31\n",
              "42 2020-12-31\n",
              "43 2021-12-31\n",
              "44 2022-12-31\n",
              "45 2023-12-31\n",
              "46 2024-12-31\n",
              "47 2025-12-31\n",
              "48 2026-12-31\n",
              "49 2027-12-31\n",
              "50 2028-12-31"
            ]
          },
          "metadata": {
            "tags": []
          },
          "execution_count": 39
        }
      ]
    },
    {
      "cell_type": "code",
      "metadata": {
        "id": "executed-mileage",
        "outputId": "f6797e8b-2319-43ac-bb3e-ec3578b68943"
      },
      "source": [
        "forecast = my_model.predict(future_dates)\n",
        "forecast[['ds', 'yhat', 'yhat_lower', 'yhat_upper']].tail()"
      ],
      "id": "executed-mileage",
      "execution_count": null,
      "outputs": [
        {
          "output_type": "execute_result",
          "data": {
            "text/html": [
              "<div>\n",
              "<style scoped>\n",
              "    .dataframe tbody tr th:only-of-type {\n",
              "        vertical-align: middle;\n",
              "    }\n",
              "\n",
              "    .dataframe tbody tr th {\n",
              "        vertical-align: top;\n",
              "    }\n",
              "\n",
              "    .dataframe thead th {\n",
              "        text-align: right;\n",
              "    }\n",
              "</style>\n",
              "<table border=\"1\" class=\"dataframe\">\n",
              "  <thead>\n",
              "    <tr style=\"text-align: right;\">\n",
              "      <th></th>\n",
              "      <th>ds</th>\n",
              "      <th>yhat</th>\n",
              "      <th>yhat_lower</th>\n",
              "      <th>yhat_upper</th>\n",
              "    </tr>\n",
              "  </thead>\n",
              "  <tbody>\n",
              "    <tr>\n",
              "      <th>46</th>\n",
              "      <td>2024-12-31</td>\n",
              "      <td>869.678822</td>\n",
              "      <td>718.030012</td>\n",
              "      <td>1032.906827</td>\n",
              "    </tr>\n",
              "    <tr>\n",
              "      <th>47</th>\n",
              "      <td>2025-12-31</td>\n",
              "      <td>852.161832</td>\n",
              "      <td>690.359365</td>\n",
              "      <td>985.588965</td>\n",
              "    </tr>\n",
              "    <tr>\n",
              "      <th>48</th>\n",
              "      <td>2026-12-31</td>\n",
              "      <td>827.776109</td>\n",
              "      <td>646.244714</td>\n",
              "      <td>978.002985</td>\n",
              "    </tr>\n",
              "    <tr>\n",
              "      <th>49</th>\n",
              "      <td>2027-12-31</td>\n",
              "      <td>796.541571</td>\n",
              "      <td>630.435046</td>\n",
              "      <td>958.694696</td>\n",
              "    </tr>\n",
              "    <tr>\n",
              "      <th>50</th>\n",
              "      <td>2028-12-31</td>\n",
              "      <td>810.013158</td>\n",
              "      <td>667.998208</td>\n",
              "      <td>958.627487</td>\n",
              "    </tr>\n",
              "  </tbody>\n",
              "</table>\n",
              "</div>"
            ],
            "text/plain": [
              "           ds        yhat  yhat_lower   yhat_upper\n",
              "46 2024-12-31  869.678822  718.030012  1032.906827\n",
              "47 2025-12-31  852.161832  690.359365   985.588965\n",
              "48 2026-12-31  827.776109  646.244714   978.002985\n",
              "49 2027-12-31  796.541571  630.435046   958.694696\n",
              "50 2028-12-31  810.013158  667.998208   958.627487"
            ]
          },
          "metadata": {
            "tags": []
          },
          "execution_count": 40
        }
      ]
    },
    {
      "cell_type": "code",
      "metadata": {
        "id": "moral-dragon",
        "outputId": "032809b4-364f-46a2-a71e-8187dad4e250"
      },
      "source": [
        "my_model.plot(forecast,\n",
        "              uncertainty=True)"
      ],
      "id": "moral-dragon",
      "execution_count": null,
      "outputs": [
        {
          "output_type": "execute_result",
          "data": {
            "image/png": "[encoded data removed]",
            "text/plain": [
              "<Figure size 720x432 with 1 Axes>"
            ]
          },
          "metadata": {
            "tags": []
          },
          "execution_count": 41
        },
        {
          "output_type": "display_data",
          "data": {
            "image/png": "[encoded data removed]",
            "text/plain": [
              "<Figure size 720x432 with 1 Axes>"
            ]
          },
          "metadata": {
            "tags": []
          }
        }
      ]
    },
    {
      "cell_type": "code",
      "metadata": {
        "id": "clear-iraqi",
        "outputId": "adc27d51-49c3-46ba-adbd-eb62c2873d09"
      },
      "source": [
        "from sklearn.metrics import mean_squared_error\n",
        "from math import sqrt\n",
        "# calculate out of sample error\n",
        "rmse = sqrt(mean_squared_error(df_MMgpd.y, forecast.iloc[:41]['yhat']))\n",
        "\n",
        "rmse"
      ],
      "id": "clear-iraqi",
      "execution_count": null,
      "outputs": [
        {
          "output_type": "execute_result",
          "data": {
            "text/plain": [
              "49.04293182687258"
            ]
          },
          "metadata": {
            "tags": []
          },
          "execution_count": 42
        }
      ]
    },
    {
      "cell_type": "code",
      "metadata": {
        "colab": {
          "referenced_widgets": [
            "5c93d4c84dc042c0892a2cd850e844ba"
          ]
        },
        "id": "widespread-scene",
        "outputId": "227ccb5d-24bf-440a-b1d0-d6b65ab83393"
      },
      "source": [
        "from fbprophet.diagnostics import cross_validation, performance_metrics\n",
        "from fbprophet.plot import add_changepoints_to_plot, plot_cross_validation_metric\n",
        "\n",
        "m = Prophet()\n",
        "m.fit(df_MMgpd)\n",
        "\n",
        "# Execute cross validation\n",
        "df_cv = cross_validation(m, horizon = '1 y')\n",
        "pm = performance_metrics(df_cv, rolling_window=0.1)\n",
        "display(pm.head(),pm.tail())\n",
        "fig = plot_cross_validation_metric(df_cv, metric='rmse', rolling_window=0.1)\n",
        "plt.show()"
      ],
      "id": "widespread-scene",
      "execution_count": null,
      "outputs": [
        {
          "output_type": "stream",
          "text": [
            "INFO:fbprophet:Disabling weekly seasonality. Run prophet with weekly_seasonality=True to override this.\n",
            "INFO:fbprophet:Disabling daily seasonality. Run prophet with daily_seasonality=True to override this.\n",
            "INFO:fbprophet:Making 54 forecasts with cutoffs between 1982-07-02 03:16:12 and 2017-12-31 18:10:48\n"
          ],
          "name": "stderr"
        },
        {
          "output_type": "display_data",
          "data": {
            "application/vnd.jupyter.widget-view+json": {
              "model_id": "5c93d4c84dc042c0892a2cd850e844ba",
              "version_major": 2,
              "version_minor": 0
            },
            "text/plain": [
              "  0%|          | 0/54 [00:00<?, ?it/s]"
            ]
          },
          "metadata": {
            "tags": []
          }
        },
        {
          "output_type": "stream",
          "text": [
            "INFO:fbprophet:n_changepoints greater than number of observations. Using 2.\n",
            "INFO:fbprophet:n_changepoints greater than number of observations. Using 2.\n",
            "INFO:fbprophet:n_changepoints greater than number of observations. Using 3.\n",
            "INFO:fbprophet:n_changepoints greater than number of observations. Using 3.\n",
            "INFO:fbprophet:n_changepoints greater than number of observations. Using 4.\n",
            "INFO:fbprophet:n_changepoints greater than number of observations. Using 4.\n",
            "INFO:fbprophet:n_changepoints greater than number of observations. Using 5.\n",
            "INFO:fbprophet:n_changepoints greater than number of observations. Using 5.\n",
            "INFO:fbprophet:n_changepoints greater than number of observations. Using 7.\n",
            "INFO:fbprophet:n_changepoints greater than number of observations. Using 7.\n",
            "INFO:fbprophet:n_changepoints greater than number of observations. Using 7.\n",
            "INFO:fbprophet:n_changepoints greater than number of observations. Using 7.\n",
            "INFO:fbprophet:n_changepoints greater than number of observations. Using 8.\n",
            "INFO:fbprophet:n_changepoints greater than number of observations. Using 8.\n",
            "INFO:fbprophet:n_changepoints greater than number of observations. Using 10.\n",
            "INFO:fbprophet:n_changepoints greater than number of observations. Using 10.\n",
            "INFO:fbprophet:n_changepoints greater than number of observations. Using 11.\n",
            "INFO:fbprophet:n_changepoints greater than number of observations. Using 11.\n",
            "INFO:fbprophet:n_changepoints greater than number of observations. Using 11.\n",
            "INFO:fbprophet:n_changepoints greater than number of observations. Using 11.\n",
            "INFO:fbprophet:n_changepoints greater than number of observations. Using 13.\n",
            "INFO:fbprophet:n_changepoints greater than number of observations. Using 13.\n",
            "INFO:fbprophet:n_changepoints greater than number of observations. Using 14.\n",
            "INFO:fbprophet:n_changepoints greater than number of observations. Using 14.\n",
            "INFO:fbprophet:n_changepoints greater than number of observations. Using 15.\n",
            "INFO:fbprophet:n_changepoints greater than number of observations. Using 15.\n",
            "INFO:fbprophet:n_changepoints greater than number of observations. Using 16.\n",
            "INFO:fbprophet:n_changepoints greater than number of observations. Using 16.\n",
            "INFO:fbprophet:n_changepoints greater than number of observations. Using 17.\n",
            "INFO:fbprophet:n_changepoints greater than number of observations. Using 17.\n",
            "INFO:fbprophet:n_changepoints greater than number of observations. Using 18.\n",
            "INFO:fbprophet:n_changepoints greater than number of observations. Using 18.\n",
            "INFO:fbprophet:n_changepoints greater than number of observations. Using 19.\n",
            "INFO:fbprophet:n_changepoints greater than number of observations. Using 19.\n",
            "INFO:fbprophet:n_changepoints greater than number of observations. Using 20.\n",
            "INFO:fbprophet:n_changepoints greater than number of observations. Using 20.\n",
            "INFO:fbprophet:n_changepoints greater than number of observations. Using 21.\n",
            "INFO:fbprophet:n_changepoints greater than number of observations. Using 21.\n",
            "INFO:fbprophet:n_changepoints greater than number of observations. Using 23.\n",
            "INFO:fbprophet:n_changepoints greater than number of observations. Using 23.\n",
            "INFO:fbprophet:n_changepoints greater than number of observations. Using 23.\n",
            "INFO:fbprophet:n_changepoints greater than number of observations. Using 23.\n",
            "INFO:fbprophet:n_changepoints greater than number of observations. Using 24.\n",
            "INFO:fbprophet:n_changepoints greater than number of observations. Using 24.\n"
          ],
          "name": "stderr"
        },
        {
          "output_type": "display_data",
          "data": {
            "text/html": [
              "<div>\n",
              "<style scoped>\n",
              "    .dataframe tbody tr th:only-of-type {\n",
              "        vertical-align: middle;\n",
              "    }\n",
              "\n",
              "    .dataframe tbody tr th {\n",
              "        vertical-align: top;\n",
              "    }\n",
              "\n",
              "    .dataframe thead th {\n",
              "        text-align: right;\n",
              "    }\n",
              "</style>\n",
              "<table border=\"1\" class=\"dataframe\">\n",
              "  <thead>\n",
              "    <tr style=\"text-align: right;\">\n",
              "      <th></th>\n",
              "      <th>horizon</th>\n",
              "      <th>mse</th>\n",
              "      <th>rmse</th>\n",
              "      <th>mae</th>\n",
              "      <th>mape</th>\n",
              "      <th>mdape</th>\n",
              "      <th>coverage</th>\n",
              "    </tr>\n",
              "  </thead>\n",
              "  <tbody>\n",
              "    <tr>\n",
              "      <th>0</th>\n",
              "      <td>0 days 05:49:12</td>\n",
              "      <td>3364.467561</td>\n",
              "      <td>58.004031</td>\n",
              "      <td>48.878191</td>\n",
              "      <td>0.041494</td>\n",
              "      <td>0.040740</td>\n",
              "      <td>0.500000</td>\n",
              "    </tr>\n",
              "    <tr>\n",
              "      <th>1</th>\n",
              "      <td>0 days 11:38:24</td>\n",
              "      <td>3120.747869</td>\n",
              "      <td>55.863654</td>\n",
              "      <td>49.177812</td>\n",
              "      <td>0.042501</td>\n",
              "      <td>0.034115</td>\n",
              "      <td>0.555556</td>\n",
              "    </tr>\n",
              "    <tr>\n",
              "      <th>2</th>\n",
              "      <td>0 days 17:27:36</td>\n",
              "      <td>4828.989474</td>\n",
              "      <td>69.490931</td>\n",
              "      <td>64.228497</td>\n",
              "      <td>0.053749</td>\n",
              "      <td>0.051008</td>\n",
              "      <td>0.250000</td>\n",
              "    </tr>\n",
              "    <tr>\n",
              "      <th>3</th>\n",
              "      <td>182 days 20:43:48</td>\n",
              "      <td>3364.467561</td>\n",
              "      <td>58.004031</td>\n",
              "      <td>48.878191</td>\n",
              "      <td>0.041494</td>\n",
              "      <td>0.040740</td>\n",
              "      <td>0.500000</td>\n",
              "    </tr>\n",
              "    <tr>\n",
              "      <th>4</th>\n",
              "      <td>183 days 02:33:00</td>\n",
              "      <td>3120.747869</td>\n",
              "      <td>55.863654</td>\n",
              "      <td>49.177812</td>\n",
              "      <td>0.042501</td>\n",
              "      <td>0.034115</td>\n",
              "      <td>0.555556</td>\n",
              "    </tr>\n",
              "  </tbody>\n",
              "</table>\n",
              "</div>"
            ],
            "text/plain": [
              "            horizon          mse       rmse        mae      mape     mdape  \\\n",
              "0   0 days 05:49:12  3364.467561  58.004031  48.878191  0.041494  0.040740   \n",
              "1   0 days 11:38:24  3120.747869  55.863654  49.177812  0.042501  0.034115   \n",
              "2   0 days 17:27:36  4828.989474  69.490931  64.228497  0.053749  0.051008   \n",
              "3 182 days 20:43:48  3364.467561  58.004031  48.878191  0.041494  0.040740   \n",
              "4 183 days 02:33:00  3120.747869  55.863654  49.177812  0.042501  0.034115   \n",
              "\n",
              "   coverage  \n",
              "0  0.500000  \n",
              "1  0.555556  \n",
              "2  0.250000  \n",
              "3  0.500000  \n",
              "4  0.555556  "
            ]
          },
          "metadata": {
            "tags": []
          }
        },
        {
          "output_type": "display_data",
          "data": {
            "text/html": [
              "<div>\n",
              "<style scoped>\n",
              "    .dataframe tbody tr th:only-of-type {\n",
              "        vertical-align: middle;\n",
              "    }\n",
              "\n",
              "    .dataframe tbody tr th {\n",
              "        vertical-align: top;\n",
              "    }\n",
              "\n",
              "    .dataframe thead th {\n",
              "        text-align: right;\n",
              "    }\n",
              "</style>\n",
              "<table border=\"1\" class=\"dataframe\">\n",
              "  <thead>\n",
              "    <tr style=\"text-align: right;\">\n",
              "      <th></th>\n",
              "      <th>horizon</th>\n",
              "      <th>mse</th>\n",
              "      <th>rmse</th>\n",
              "      <th>mae</th>\n",
              "      <th>mape</th>\n",
              "      <th>mdape</th>\n",
              "      <th>coverage</th>\n",
              "    </tr>\n",
              "  </thead>\n",
              "  <tbody>\n",
              "    <tr>\n",
              "      <th>2</th>\n",
              "      <td>0 days 17:27:36</td>\n",
              "      <td>4828.989474</td>\n",
              "      <td>69.490931</td>\n",
              "      <td>64.228497</td>\n",
              "      <td>0.053749</td>\n",
              "      <td>0.051008</td>\n",
              "      <td>0.250000</td>\n",
              "    </tr>\n",
              "    <tr>\n",
              "      <th>3</th>\n",
              "      <td>182 days 20:43:48</td>\n",
              "      <td>3364.467561</td>\n",
              "      <td>58.004031</td>\n",
              "      <td>48.878191</td>\n",
              "      <td>0.041494</td>\n",
              "      <td>0.040740</td>\n",
              "      <td>0.500000</td>\n",
              "    </tr>\n",
              "    <tr>\n",
              "      <th>4</th>\n",
              "      <td>183 days 02:33:00</td>\n",
              "      <td>3120.747869</td>\n",
              "      <td>55.863654</td>\n",
              "      <td>49.177812</td>\n",
              "      <td>0.042501</td>\n",
              "      <td>0.034115</td>\n",
              "      <td>0.555556</td>\n",
              "    </tr>\n",
              "    <tr>\n",
              "      <th>5</th>\n",
              "      <td>183 days 08:22:12</td>\n",
              "      <td>4828.989474</td>\n",
              "      <td>69.490931</td>\n",
              "      <td>64.228497</td>\n",
              "      <td>0.053749</td>\n",
              "      <td>0.051008</td>\n",
              "      <td>0.250000</td>\n",
              "    </tr>\n",
              "    <tr>\n",
              "      <th>6</th>\n",
              "      <td>365 days 05:49:12</td>\n",
              "      <td>7773.088397</td>\n",
              "      <td>88.165120</td>\n",
              "      <td>68.239883</td>\n",
              "      <td>0.055179</td>\n",
              "      <td>0.048479</td>\n",
              "      <td>0.500000</td>\n",
              "    </tr>\n",
              "  </tbody>\n",
              "</table>\n",
              "</div>"
            ],
            "text/plain": [
              "            horizon          mse       rmse        mae      mape     mdape  \\\n",
              "2   0 days 17:27:36  4828.989474  69.490931  64.228497  0.053749  0.051008   \n",
              "3 182 days 20:43:48  3364.467561  58.004031  48.878191  0.041494  0.040740   \n",
              "4 183 days 02:33:00  3120.747869  55.863654  49.177812  0.042501  0.034115   \n",
              "5 183 days 08:22:12  4828.989474  69.490931  64.228497  0.053749  0.051008   \n",
              "6 365 days 05:49:12  7773.088397  88.165120  68.239883  0.055179  0.048479   \n",
              "\n",
              "   coverage  \n",
              "2  0.250000  \n",
              "3  0.500000  \n",
              "4  0.555556  \n",
              "5  0.250000  \n",
              "6  0.500000  "
            ]
          },
          "metadata": {
            "tags": []
          }
        },
        {
          "output_type": "display_data",
          "data": {
            "image/png": "[encoded data removed]",
            "text/plain": [
              "<Figure size 720x432 with 1 Axes>"
            ]
          },
          "metadata": {
            "tags": []
          }
        }
      ]
    },
    {
      "cell_type": "code",
      "metadata": {
        "id": "cardiovascular-gazette",
        "outputId": "afcd2946-45d2-4cfb-b9e4-6cb94dfdba7e"
      },
      "source": [
        "pm.describe()"
      ],
      "id": "cardiovascular-gazette",
      "execution_count": null,
      "outputs": [
        {
          "output_type": "execute_result",
          "data": {
            "text/html": [
              "<div>\n",
              "<style scoped>\n",
              "    .dataframe tbody tr th:only-of-type {\n",
              "        vertical-align: middle;\n",
              "    }\n",
              "\n",
              "    .dataframe tbody tr th {\n",
              "        vertical-align: top;\n",
              "    }\n",
              "\n",
              "    .dataframe thead th {\n",
              "        text-align: right;\n",
              "    }\n",
              "</style>\n",
              "<table border=\"1\" class=\"dataframe\">\n",
              "  <thead>\n",
              "    <tr style=\"text-align: right;\">\n",
              "      <th></th>\n",
              "      <th>horizon</th>\n",
              "      <th>mse</th>\n",
              "      <th>rmse</th>\n",
              "      <th>mae</th>\n",
              "      <th>mape</th>\n",
              "      <th>mdape</th>\n",
              "      <th>coverage</th>\n",
              "    </tr>\n",
              "  </thead>\n",
              "  <tbody>\n",
              "    <tr>\n",
              "      <th>count</th>\n",
              "      <td>7</td>\n",
              "      <td>7.000000</td>\n",
              "      <td>7.000000</td>\n",
              "      <td>7.000000</td>\n",
              "      <td>7.000000</td>\n",
              "      <td>7.000000</td>\n",
              "      <td>7.000000</td>\n",
              "    </tr>\n",
              "    <tr>\n",
              "      <th>mean</th>\n",
              "      <td>130 days 20:37:37.714285714</td>\n",
              "      <td>4343.071172</td>\n",
              "      <td>64.983193</td>\n",
              "      <td>56.115555</td>\n",
              "      <td>0.047238</td>\n",
              "      <td>0.042886</td>\n",
              "      <td>0.444444</td>\n",
              "    </tr>\n",
              "    <tr>\n",
              "      <th>std</th>\n",
              "      <td>137 days 21:52:24.950689774</td>\n",
              "      <td>1690.203633</td>\n",
              "      <td>11.844764</td>\n",
              "      <td>8.941126</td>\n",
              "      <td>0.006567</td>\n",
              "      <td>0.007374</td>\n",
              "      <td>0.135134</td>\n",
              "    </tr>\n",
              "    <tr>\n",
              "      <th>min</th>\n",
              "      <td>0 days 05:49:12</td>\n",
              "      <td>3120.747869</td>\n",
              "      <td>55.863654</td>\n",
              "      <td>48.878191</td>\n",
              "      <td>0.041494</td>\n",
              "      <td>0.034115</td>\n",
              "      <td>0.250000</td>\n",
              "    </tr>\n",
              "    <tr>\n",
              "      <th>25%</th>\n",
              "      <td>0 days 14:33:00</td>\n",
              "      <td>3242.607715</td>\n",
              "      <td>56.933842</td>\n",
              "      <td>49.028002</td>\n",
              "      <td>0.041997</td>\n",
              "      <td>0.037428</td>\n",
              "      <td>0.375000</td>\n",
              "    </tr>\n",
              "    <tr>\n",
              "      <th>50%</th>\n",
              "      <td>182 days 20:43:48</td>\n",
              "      <td>3364.467561</td>\n",
              "      <td>58.004031</td>\n",
              "      <td>49.177812</td>\n",
              "      <td>0.042501</td>\n",
              "      <td>0.040740</td>\n",
              "      <td>0.500000</td>\n",
              "    </tr>\n",
              "    <tr>\n",
              "      <th>75%</th>\n",
              "      <td>183 days 05:27:36</td>\n",
              "      <td>4828.989474</td>\n",
              "      <td>69.490931</td>\n",
              "      <td>64.228497</td>\n",
              "      <td>0.053749</td>\n",
              "      <td>0.049743</td>\n",
              "      <td>0.527778</td>\n",
              "    </tr>\n",
              "    <tr>\n",
              "      <th>max</th>\n",
              "      <td>365 days 05:49:12</td>\n",
              "      <td>7773.088397</td>\n",
              "      <td>88.165120</td>\n",
              "      <td>68.239883</td>\n",
              "      <td>0.055179</td>\n",
              "      <td>0.051008</td>\n",
              "      <td>0.555556</td>\n",
              "    </tr>\n",
              "  </tbody>\n",
              "</table>\n",
              "</div>"
            ],
            "text/plain": [
              "                           horizon          mse       rmse        mae  \\\n",
              "count                            7     7.000000   7.000000   7.000000   \n",
              "mean   130 days 20:37:37.714285714  4343.071172  64.983193  56.115555   \n",
              "std    137 days 21:52:24.950689774  1690.203633  11.844764   8.941126   \n",
              "min                0 days 05:49:12  3120.747869  55.863654  48.878191   \n",
              "25%                0 days 14:33:00  3242.607715  56.933842  49.028002   \n",
              "50%              182 days 20:43:48  3364.467561  58.004031  49.177812   \n",
              "75%              183 days 05:27:36  4828.989474  69.490931  64.228497   \n",
              "max              365 days 05:49:12  7773.088397  88.165120  68.239883   \n",
              "\n",
              "           mape     mdape  coverage  \n",
              "count  7.000000  7.000000  7.000000  \n",
              "mean   0.047238  0.042886  0.444444  \n",
              "std    0.006567  0.007374  0.135134  \n",
              "min    0.041494  0.034115  0.250000  \n",
              "25%    0.041997  0.037428  0.375000  \n",
              "50%    0.042501  0.040740  0.500000  \n",
              "75%    0.053749  0.049743  0.527778  \n",
              "max    0.055179  0.051008  0.555556  "
            ]
          },
          "metadata": {
            "tags": []
          },
          "execution_count": 44
        }
      ]
    },
    {
      "cell_type": "code",
      "metadata": {
        "id": "blocked-linux",
        "outputId": "250c2372-ad24-46e2-e01d-b7f13bd5342b"
      },
      "source": [
        "import itertools\n",
        "\n",
        "\n",
        "from dask.distributed import Client, LocalCluster\n",
        "cluster = LocalCluster(n_workers=4, threads_per_worker=3)\n",
        "client = Client(cluster)\n",
        "client\n",
        "\n",
        "param_grid = {  \n",
        "    'changepoint_prior_scale': [ 0.5, 1.0, 1.5],\n",
        "    'seasonality_prior_scale': [10.0, 15.0, 20.0],\n",
        "    'changepoint_range':[0.8, 0.90]\n",
        "}\n",
        "\n",
        "# Generate all combinations of parametersClick on a function to see documentation.\n",
        "all_params = [dict(zip(param_grid.keys(), v)) for v in itertools.product(*param_grid.values())]\n",
        "rmses = []  # Store the RMSEs for each params here\n",
        "\n",
        "# Use cross validation to evaluate all parameters\n",
        "for params in all_params:\n",
        "    m = Prophet(**params).fit(df_MMgpd)  # Fit model with given params\n",
        "    df_cv = cross_validation(m, horizon='1 y', parallel=\"dask\")\n",
        "    df_p = performance_metrics(df_cv, rolling_window=0.1)\n",
        "    rmses.append(df_p['rmse'].values[0])\n",
        "\n",
        "# Find the best parameters\n",
        "tuning_results = pd.DataFrame(all_params)\n",
        "tuning_results['rmse'] = rmses\n",
        "print(tuning_results)"
      ],
      "id": "blocked-linux",
      "execution_count": null,
      "outputs": [
        {
          "output_type": "stream",
          "text": [
            "INFO:fbprophet:Disabling weekly seasonality. Run prophet with weekly_seasonality=True to override this.\n",
            "INFO:fbprophet:Disabling daily seasonality. Run prophet with daily_seasonality=True to override this.\n",
            "INFO:fbprophet:Making 54 forecasts with cutoffs between 1982-07-02 03:16:12 and 2017-12-31 18:10:48\n",
            "INFO:fbprophet:Applying in parallel with <Client: 'tcp://127.0.0.1:44555' processes=4 threads=12, memory=33.52 GB>\n",
            "INFO:fbprophet:Disabling weekly seasonality. Run prophet with weekly_seasonality=True to override this.\n",
            "INFO:fbprophet:Disabling daily seasonality. Run prophet with daily_seasonality=True to override this.\n",
            "INFO:fbprophet:Making 54 forecasts with cutoffs between 1982-07-02 03:16:12 and 2017-12-31 18:10:48\n",
            "INFO:fbprophet:Applying in parallel with <Client: 'tcp://127.0.0.1:44555' processes=4 threads=12, memory=33.52 GB>\n",
            "INFO:fbprophet:Disabling weekly seasonality. Run prophet with weekly_seasonality=True to override this.\n",
            "INFO:fbprophet:Disabling daily seasonality. Run prophet with daily_seasonality=True to override this.\n",
            "INFO:fbprophet:Making 54 forecasts with cutoffs between 1982-07-02 03:16:12 and 2017-12-31 18:10:48\n",
            "INFO:fbprophet:Applying in parallel with <Client: 'tcp://127.0.0.1:44555' processes=4 threads=12, memory=33.52 GB>\n",
            "INFO:fbprophet:Disabling weekly seasonality. Run prophet with weekly_seasonality=True to override this.\n",
            "INFO:fbprophet:Disabling daily seasonality. Run prophet with daily_seasonality=True to override this.\n",
            "INFO:fbprophet:Making 54 forecasts with cutoffs between 1982-07-02 03:16:12 and 2017-12-31 18:10:48\n",
            "INFO:fbprophet:Applying in parallel with <Client: 'tcp://127.0.0.1:44555' processes=4 threads=12, memory=33.52 GB>\n",
            "INFO:fbprophet:Disabling weekly seasonality. Run prophet with weekly_seasonality=True to override this.\n",
            "INFO:fbprophet:Disabling daily seasonality. Run prophet with daily_seasonality=True to override this.\n",
            "INFO:fbprophet:Making 54 forecasts with cutoffs between 1982-07-02 03:16:12 and 2017-12-31 18:10:48\n",
            "INFO:fbprophet:Applying in parallel with <Client: 'tcp://127.0.0.1:44555' processes=4 threads=12, memory=33.52 GB>\n",
            "INFO:fbprophet:Disabling weekly seasonality. Run prophet with weekly_seasonality=True to override this.\n",
            "INFO:fbprophet:Disabling daily seasonality. Run prophet with daily_seasonality=True to override this.\n",
            "INFO:fbprophet:Making 54 forecasts with cutoffs between 1982-07-02 03:16:12 and 2017-12-31 18:10:48\n",
            "INFO:fbprophet:Applying in parallel with <Client: 'tcp://127.0.0.1:44555' processes=4 threads=12, memory=33.52 GB>\n",
            "INFO:fbprophet:Disabling weekly seasonality. Run prophet with weekly_seasonality=True to override this.\n",
            "INFO:fbprophet:Disabling daily seasonality. Run prophet with daily_seasonality=True to override this.\n",
            "INFO:fbprophet:Making 54 forecasts with cutoffs between 1982-07-02 03:16:12 and 2017-12-31 18:10:48\n",
            "INFO:fbprophet:Applying in parallel with <Client: 'tcp://127.0.0.1:44555' processes=4 threads=12, memory=33.52 GB>\n",
            "INFO:fbprophet:Disabling weekly seasonality. Run prophet with weekly_seasonality=True to override this.\n",
            "INFO:fbprophet:Disabling daily seasonality. Run prophet with daily_seasonality=True to override this.\n",
            "INFO:fbprophet:Making 54 forecasts with cutoffs between 1982-07-02 03:16:12 and 2017-12-31 18:10:48\n",
            "INFO:fbprophet:Applying in parallel with <Client: 'tcp://127.0.0.1:44555' processes=4 threads=12, memory=33.52 GB>\n",
            "INFO:fbprophet:Disabling weekly seasonality. Run prophet with weekly_seasonality=True to override this.\n",
            "INFO:fbprophet:Disabling daily seasonality. Run prophet with daily_seasonality=True to override this.\n",
            "INFO:fbprophet:Making 54 forecasts with cutoffs between 1982-07-02 03:16:12 and 2017-12-31 18:10:48\n",
            "INFO:fbprophet:Applying in parallel with <Client: 'tcp://127.0.0.1:44555' processes=4 threads=12, memory=33.52 GB>\n",
            "INFO:fbprophet:Disabling weekly seasonality. Run prophet with weekly_seasonality=True to override this.\n",
            "INFO:fbprophet:Disabling daily seasonality. Run prophet with daily_seasonality=True to override this.\n",
            "INFO:fbprophet:Making 54 forecasts with cutoffs between 1982-07-02 03:16:12 and 2017-12-31 18:10:48\n",
            "INFO:fbprophet:Applying in parallel with <Client: 'tcp://127.0.0.1:44555' processes=4 threads=12, memory=33.52 GB>\n",
            "INFO:fbprophet:Disabling weekly seasonality. Run prophet with weekly_seasonality=True to override this.\n",
            "INFO:fbprophet:Disabling daily seasonality. Run prophet with daily_seasonality=True to override this.\n",
            "INFO:fbprophet:Making 54 forecasts with cutoffs between 1982-07-02 03:16:12 and 2017-12-31 18:10:48\n",
            "INFO:fbprophet:Applying in parallel with <Client: 'tcp://127.0.0.1:44555' processes=4 threads=12, memory=33.52 GB>\n",
            "INFO:fbprophet:Disabling weekly seasonality. Run prophet with weekly_seasonality=True to override this.\n",
            "INFO:fbprophet:Disabling daily seasonality. Run prophet with daily_seasonality=True to override this.\n",
            "INFO:fbprophet:Making 54 forecasts with cutoffs between 1982-07-02 03:16:12 and 2017-12-31 18:10:48\n",
            "INFO:fbprophet:Applying in parallel with <Client: 'tcp://127.0.0.1:44555' processes=4 threads=12, memory=33.52 GB>\n",
            "INFO:fbprophet:Disabling weekly seasonality. Run prophet with weekly_seasonality=True to override this.\n",
            "INFO:fbprophet:Disabling daily seasonality. Run prophet with daily_seasonality=True to override this.\n",
            "INFO:fbprophet:Making 54 forecasts with cutoffs between 1982-07-02 03:16:12 and 2017-12-31 18:10:48\n",
            "INFO:fbprophet:Applying in parallel with <Client: 'tcp://127.0.0.1:44555' processes=4 threads=12, memory=33.52 GB>\n",
            "INFO:fbprophet:Disabling weekly seasonality. Run prophet with weekly_seasonality=True to override this.\n",
            "INFO:fbprophet:Disabling daily seasonality. Run prophet with daily_seasonality=True to override this.\n",
            "INFO:fbprophet:Making 54 forecasts with cutoffs between 1982-07-02 03:16:12 and 2017-12-31 18:10:48\n",
            "INFO:fbprophet:Applying in parallel with <Client: 'tcp://127.0.0.1:44555' processes=4 threads=12, memory=33.52 GB>\n",
            "INFO:fbprophet:Disabling weekly seasonality. Run prophet with weekly_seasonality=True to override this.\n",
            "INFO:fbprophet:Disabling daily seasonality. Run prophet with daily_seasonality=True to override this.\n",
            "INFO:fbprophet:Making 54 forecasts with cutoffs between 1982-07-02 03:16:12 and 2017-12-31 18:10:48\n",
            "INFO:fbprophet:Applying in parallel with <Client: 'tcp://127.0.0.1:44555' processes=4 threads=12, memory=33.52 GB>\n",
            "INFO:fbprophet:Disabling weekly seasonality. Run prophet with weekly_seasonality=True to override this.\n",
            "INFO:fbprophet:Disabling daily seasonality. Run prophet with daily_seasonality=True to override this.\n",
            "INFO:fbprophet:Making 54 forecasts with cutoffs between 1982-07-02 03:16:12 and 2017-12-31 18:10:48\n",
            "INFO:fbprophet:Applying in parallel with <Client: 'tcp://127.0.0.1:44555' processes=4 threads=12, memory=33.52 GB>\n",
            "INFO:fbprophet:Disabling weekly seasonality. Run prophet with weekly_seasonality=True to override this.\n",
            "INFO:fbprophet:Disabling daily seasonality. Run prophet with daily_seasonality=True to override this.\n",
            "INFO:fbprophet:Making 54 forecasts with cutoffs between 1982-07-02 03:16:12 and 2017-12-31 18:10:48\n",
            "INFO:fbprophet:Applying in parallel with <Client: 'tcp://127.0.0.1:44555' processes=4 threads=12, memory=33.52 GB>\n",
            "INFO:fbprophet:Disabling weekly seasonality. Run prophet with weekly_seasonality=True to override this.\n",
            "INFO:fbprophet:Disabling daily seasonality. Run prophet with daily_seasonality=True to override this.\n",
            "INFO:fbprophet:Making 54 forecasts with cutoffs between 1982-07-02 03:16:12 and 2017-12-31 18:10:48\n",
            "INFO:fbprophet:Applying in parallel with <Client: 'tcp://127.0.0.1:44555' processes=4 threads=12, memory=33.52 GB>\n"
          ],
          "name": "stderr"
        },
        {
          "output_type": "stream",
          "text": [
            "    changepoint_prior_scale  seasonality_prior_scale  changepoint_range  \\\n",
            "0                       0.5                     10.0                0.8   \n",
            "1                       0.5                     10.0                0.9   \n",
            "2                       0.5                     15.0                0.8   \n",
            "3                       0.5                     15.0                0.9   \n",
            "4                       0.5                     20.0                0.8   \n",
            "5                       0.5                     20.0                0.9   \n",
            "6                       1.0                     10.0                0.8   \n",
            "7                       1.0                     10.0                0.9   \n",
            "8                       1.0                     15.0                0.8   \n",
            "9                       1.0                     15.0                0.9   \n",
            "10                      1.0                     20.0                0.8   \n",
            "11                      1.0                     20.0                0.9   \n",
            "12                      1.5                     10.0                0.8   \n",
            "13                      1.5                     10.0                0.9   \n",
            "14                      1.5                     15.0                0.8   \n",
            "15                      1.5                     15.0                0.9   \n",
            "16                      1.5                     20.0                0.8   \n",
            "17                      1.5                     20.0                0.9   \n",
            "\n",
            "         rmse  \n",
            "0   44.192959  \n",
            "1   48.704994  \n",
            "2   44.712091  \n",
            "3   46.272615  \n",
            "4   45.475520  \n",
            "5   49.501054  \n",
            "6   42.430469  \n",
            "7   35.553344  \n",
            "8   43.582056  \n",
            "9   40.330027  \n",
            "10  42.093464  \n",
            "11  46.038329  \n",
            "12  48.341643  \n",
            "13  35.275494  \n",
            "14  45.428243  \n",
            "15  49.373589  \n",
            "16  45.666763  \n",
            "17  47.977178  \n"
          ],
          "name": "stdout"
        }
      ]
    },
    {
      "cell_type": "markdown",
      "metadata": {
        "id": "present-establishment"
      },
      "source": [
        "Although we improved our Prophet's rmse from 49 to 35, our ARIMA(4,0,0) still outperformed all other models with an rmse of 13."
      ],
      "id": "present-establishment"
    }
  ]
}
